{
  "nbformat": 4,
  "nbformat_minor": 0,
  "metadata": {
    "colab": {
      "name": "딥러닝01.ipynb",
      "provenance": [],
      "authorship_tag": "ABX9TyPVZQXc2hTkEGyAdMkJ79pP",
      "include_colab_link": true
    },
    "kernelspec": {
      "name": "python3",
      "display_name": "Python 3"
    },
    "language_info": {
      "name": "python"
    }
  },
  "cells": [
    {
      "cell_type": "markdown",
      "metadata": {
        "id": "view-in-github",
        "colab_type": "text"
      },
      "source": [
        "<a href=\"https://colab.research.google.com/github/keeeyslog/wk12/blob/main/%EB%94%A5%EB%9F%AC%EB%8B%9D01.ipynb\" target=\"_parent\"><img src=\"https://colab.research.google.com/assets/colab-badge.svg\" alt=\"Open In Colab\"/></a>"
      ]
    },
    {
      "cell_type": "code",
      "metadata": {
        "colab": {
          "base_uri": "https://localhost:8080/"
        },
        "id": "PMG5mOEIAODT",
        "outputId": "a45b6486-6c7a-4146-faf6-cd801ed89529"
      },
      "source": [
        "# 레모네이드 데이터\n",
        "\n",
        "import pandas as pd\n",
        "\n",
        "path = 'https://raw.githubusercontent.com/blackdew/ml-tensorflow/master/data/csv/lemonade.csv'\n",
        "lemon = pd.read_csv(path)\n",
        "print(lemon.shape)\n",
        "lemon.head()\n",
        "\n",
        "# 독립변수 한글로\n",
        "독립 = lemon[['온도']]\n",
        "종속 = lemon[['판매량']]\n",
        "print(독립.shape, 종속.shape)\n",
        "print(독립.head(2))\n",
        "print(종속.head(2))\n"
      ],
      "execution_count": null,
      "outputs": [
        {
          "output_type": "stream",
          "name": "stdout",
          "text": [
            "(6, 2)\n",
            "(6, 1) (6, 1)\n",
            "   온도\n",
            "0  20\n",
            "1  21\n",
            "   판매량\n",
            "0   40\n",
            "1   42\n"
          ]
        }
      ]
    },
    {
      "cell_type": "code",
      "metadata": {
        "colab": {
          "base_uri": "https://localhost:8080/"
        },
        "id": "KkJv7r9aRLkH",
        "outputId": "817e493d-4a4a-4e3f-e51f-e9c92c556882"
      },
      "source": [
        "# 딥러닝 : 레모네이드 판매 예측\n",
        "\n",
        "import tensorflow as tf\n",
        "import pandas as pd\n",
        "\n",
        "# 1 : 데이터를 준비한다.\n",
        "path = 'https://raw.githubusercontent.com/blackdew/ml-tensorflow/master/data/csv/lemonade.csv'\n",
        "lemon = pd.read_csv(path)\n",
        "\n",
        "x_lemon = lemon[['온도']]\n",
        "y_lemon = lemon[['판매량']]\n",
        "print(x_lemon.shape, y_lemon.shape)"
      ],
      "execution_count": null,
      "outputs": [
        {
          "output_type": "stream",
          "name": "stdout",
          "text": [
            "(6, 1) (6, 1)\n"
          ]
        }
      ]
    },
    {
      "cell_type": "code",
      "metadata": {
        "id": "AcIh4FD8SG4Y"
      },
      "source": [
        "# 2 : 모델을 생성한다.\n",
        "X = tf.keras.layers.Input(shape=[1])\n",
        "Y = tf.keras.layers.Dense(1)(X)\n",
        "model = tf.keras.models.Model(X, Y)\n",
        "model.compile(loss=\"mse\")"
      ],
      "execution_count": null,
      "outputs": []
    },
    {
      "cell_type": "code",
      "metadata": {
        "colab": {
          "base_uri": "https://localhost:8080/"
        },
        "id": "c0M9xTXOSJjo",
        "outputId": "04449351-a74b-4a2f-ff75-a8d0b5748314"
      },
      "source": [
        "# 3: 모델에 데이터를 학습합니다. \n",
        "model.fit(x_lemon, y_lemon, epochs=1000, verbose=0)\n",
        "model.fit(x_lemon, y_lemon, epochs=10)"
      ],
      "execution_count": null,
      "outputs": [
        {
          "output_type": "stream",
          "name": "stdout",
          "text": [
            "Epoch 1/10\n",
            "1/1 [==============================] - 0s 6ms/step - loss: 6.1943e-04\n",
            "Epoch 2/10\n",
            "1/1 [==============================] - 0s 9ms/step - loss: 6.1907e-04\n",
            "Epoch 3/10\n",
            "1/1 [==============================] - 0s 22ms/step - loss: 6.1862e-04\n",
            "Epoch 4/10\n",
            "1/1 [==============================] - 0s 7ms/step - loss: 6.1817e-04\n",
            "Epoch 5/10\n",
            "1/1 [==============================] - 0s 6ms/step - loss: 6.1770e-04\n",
            "Epoch 6/10\n",
            "1/1 [==============================] - 0s 9ms/step - loss: 6.1729e-04\n",
            "Epoch 7/10\n",
            "1/1 [==============================] - 0s 7ms/step - loss: 6.1679e-04\n",
            "Epoch 8/10\n",
            "1/1 [==============================] - 0s 9ms/step - loss: 6.1631e-04\n",
            "Epoch 9/10\n",
            "1/1 [==============================] - 0s 8ms/step - loss: 6.1594e-04\n",
            "Epoch 10/10\n",
            "1/1 [==============================] - 0s 8ms/step - loss: 6.1555e-04\n"
          ]
        },
        {
          "output_type": "execute_result",
          "data": {
            "text/plain": [
              "<keras.callbacks.History at 0x7faab1bb22d0>"
            ]
          },
          "metadata": {},
          "execution_count": 4
        }
      ]
    },
    {
      "cell_type": "code",
      "metadata": {
        "colab": {
          "base_uri": "https://localhost:8080/"
        },
        "id": "TBRLmLv7SQto",
        "outputId": "a2459cf0-cb26-4c41-d85c-8f54705e7963"
      },
      "source": [
        "# 4 : 모델을 이용합니다.\n",
        "model.predict(x_lemon)"
      ],
      "execution_count": null,
      "outputs": [
        {
          "output_type": "execute_result",
          "data": {
            "text/plain": [
              "array([[40.022964],\n",
              "       [42.009712],\n",
              "       [43.996464],\n",
              "       [45.983215],\n",
              "       [47.969967],\n",
              "       [49.95672 ]], dtype=float32)"
            ]
          },
          "metadata": {},
          "execution_count": 5
        }
      ]
    },
    {
      "cell_type": "code",
      "metadata": {
        "colab": {
          "base_uri": "https://localhost:8080/"
        },
        "id": "hNFdzkQOVNzt",
        "outputId": "4eb91dec-ad30-4775-e320-996910a19219"
      },
      "source": [
        "# 수식 가져오기\n",
        "model.get_weights()"
      ],
      "execution_count": null,
      "outputs": [
        {
          "output_type": "execute_result",
          "data": {
            "text/plain": [
              "[array([[1.9867511]], dtype=float32), array([0.28793934], dtype=float32)]"
            ]
          },
          "metadata": {},
          "execution_count": 6
        }
      ]
    },
    {
      "cell_type": "code",
      "metadata": {
        "colab": {
          "base_uri": "https://localhost:8080/"
        },
        "id": "KM1NjgrtVh9o",
        "outputId": "98ff74d4-4287-43c4-b6fa-6055dd5b1174"
      },
      "source": [
        "# 수식은 이런식으로 \n",
        "온도 = 20\n",
        "판매량 = 1.3896372 * 온도 + 0.028362\n",
        "판매량"
      ],
      "execution_count": null,
      "outputs": [
        {
          "output_type": "execute_result",
          "data": {
            "text/plain": [
              "27.821106"
            ]
          },
          "metadata": {},
          "execution_count": 7
        }
      ]
    },
    {
      "cell_type": "code",
      "metadata": {
        "colab": {
          "base_uri": "https://localhost:8080/"
        },
        "id": "YX2QPuQyHKm7",
        "outputId": "f5a358f0-5758-4a17-df87-f63bca2f585c"
      },
      "source": [
        "# 보스턴 데이터\n",
        "\n",
        "path = 'https://raw.githubusercontent.com/blackdew/ml-tensorflow/master/data/csv/boston.csv'\n",
        "house = pd.read_csv(path)\n",
        "print(house.shape)\n",
        "house.head()\n",
        "\n",
        "# 한글 독립변수\n",
        "\n",
        "print(house.columns)\n",
        "독립 = house[['crim', 'zn', 'indus', 'chas', 'nox', 'rm', 'age', 'dis', 'rad', \n",
        "               'tax', 'ptratio', 'b', 'lstat']]\n",
        "종속 = house[['medv']]\n",
        "print(독립.shape, 종속.shape)\n",
        "print(독립.head(2))\n",
        "print(종속.head(2))"
      ],
      "execution_count": null,
      "outputs": [
        {
          "output_type": "stream",
          "name": "stdout",
          "text": [
            "(506, 14)\n",
            "Index(['crim', 'zn', 'indus', 'chas', 'nox', 'rm', 'age', 'dis', 'rad', 'tax',\n",
            "       'ptratio', 'b', 'lstat', 'medv'],\n",
            "      dtype='object')\n",
            "(506, 13) (506, 1)\n",
            "      crim    zn  indus  chas    nox  ...  rad  tax  ptratio      b  lstat\n",
            "0  0.00632  18.0   2.31     0  0.538  ...    1  296     15.3  396.9   4.98\n",
            "1  0.02731   0.0   7.07     0  0.469  ...    2  242     17.8  396.9   9.14\n",
            "\n",
            "[2 rows x 13 columns]\n",
            "   medv\n",
            "0  24.0\n",
            "1  21.6\n"
          ]
        }
      ]
    },
    {
      "cell_type": "code",
      "metadata": {
        "colab": {
          "base_uri": "https://localhost:8080/"
        },
        "id": "pQd5SGZye49f",
        "outputId": "6b48acec-a84a-4fbc-9a2d-0dca13efbff0"
      },
      "source": [
        "# 두번째 딥러닝 보스턴 집값 예측\n",
        "# 1 : 데이터를 준비합니다\n",
        "import pandas as pd\n",
        "import tensorflow as tf\n",
        "\n",
        "path = \"https://raw.githubusercontent.com/blackdew/ml-tensorflow/master/data/csv/boston.csv\"\n",
        "boston = pd.read_csv(path)\n",
        "print(boston.columns)\n",
        "\n",
        "x_house = house[['crim', 'zn', 'indus', 'chas', 'nox', 'rm', 'age', 'dis', 'rad', 'tax',\n",
        "       'ptratio', 'b', 'lstat']]\n",
        "y_house = boston[['medv']]\n",
        "print(x_house.shape, y_house.shape)"
      ],
      "execution_count": null,
      "outputs": [
        {
          "output_type": "stream",
          "name": "stdout",
          "text": [
            "Index(['crim', 'zn', 'indus', 'chas', 'nox', 'rm', 'age', 'dis', 'rad', 'tax',\n",
            "       'ptratio', 'b', 'lstat', 'medv'],\n",
            "      dtype='object')\n",
            "(506, 13) (506, 1)\n"
          ]
        }
      ]
    },
    {
      "cell_type": "code",
      "metadata": {
        "colab": {
          "base_uri": "https://localhost:8080/",
          "height": 419
        },
        "id": "AZ1pJBHpe-kD",
        "outputId": "cd2d798f-b86c-4471-9022-a00e680782d6"
      },
      "source": [
        "# 2 : 모델을 생성합니다. 준비합니다.\n",
        "X = tf.keras.layers.Input(shape=[13])\n",
        "Y = tf.keras.layers.Dense(1)(X)\n",
        "model = tf.keras.models.Model(X, Y)\n",
        "model.compile(loss='mse')\n",
        "\n",
        "model.summary()\n",
        "tf.keras.utils.plot_model(model, show_shapes=True)"
      ],
      "execution_count": null,
      "outputs": [
        {
          "output_type": "stream",
          "name": "stdout",
          "text": [
            "Model: \"model_1\"\n",
            "_________________________________________________________________\n",
            " Layer (type)                Output Shape              Param #   \n",
            "=================================================================\n",
            " input_2 (InputLayer)        [(None, 13)]              0         \n",
            "                                                                 \n",
            " dense_1 (Dense)             (None, 1)                 14        \n",
            "                                                                 \n",
            "=================================================================\n",
            "Total params: 14\n",
            "Trainable params: 14\n",
            "Non-trainable params: 0\n",
            "_________________________________________________________________\n"
          ]
        },
        {
          "output_type": "execute_result",
          "data": {
            "image/png": "[encoded data removed]",
            "text/plain": [
              "<IPython.core.display.Image object>"
            ]
          },
          "metadata": {},
          "execution_count": 10
        }
      ]
    },
    {
      "cell_type": "code",
      "metadata": {
        "colab": {
          "base_uri": "https://localhost:8080/"
        },
        "id": "eGq_CSoUfFFQ",
        "outputId": "d3c46450-fd05-499d-8a94-dfd6fce74735"
      },
      "source": [
        "# 3 :  모델을 데이터로 학습시킵니다.\n",
        "model.fit(x_house, y_house, epochs=10)"
      ],
      "execution_count": null,
      "outputs": [
        {
          "output_type": "stream",
          "name": "stdout",
          "text": [
            "Epoch 1/10\n",
            "16/16 [==============================] - 0s 2ms/step - loss: 13306.7031\n",
            "Epoch 2/10\n",
            "16/16 [==============================] - 0s 2ms/step - loss: 10507.1455\n",
            "Epoch 3/10\n",
            "16/16 [==============================] - 0s 2ms/step - loss: 8599.2686\n",
            "Epoch 4/10\n",
            "16/16 [==============================] - 0s 2ms/step - loss: 7109.6841\n",
            "Epoch 5/10\n",
            "16/16 [==============================] - 0s 2ms/step - loss: 5988.4058\n",
            "Epoch 6/10\n",
            "16/16 [==============================] - 0s 2ms/step - loss: 5174.7515\n",
            "Epoch 7/10\n",
            "16/16 [==============================] - 0s 2ms/step - loss: 4606.0273\n",
            "Epoch 8/10\n",
            "16/16 [==============================] - 0s 2ms/step - loss: 4201.4019\n",
            "Epoch 9/10\n",
            "16/16 [==============================] - 0s 2ms/step - loss: 3854.0959\n",
            "Epoch 10/10\n",
            "16/16 [==============================] - 0s 2ms/step - loss: 3519.3110\n"
          ]
        },
        {
          "output_type": "execute_result",
          "data": {
            "text/plain": [
              "<keras.callbacks.History at 0x7faab23af350>"
            ]
          },
          "metadata": {},
          "execution_count": 11
        }
      ]
    },
    {
      "cell_type": "code",
      "metadata": {
        "colab": {
          "base_uri": "https://localhost:8080/"
        },
        "id": "1ly4F-MifKR5",
        "outputId": "5c30c70b-c5c9-44ed-cbfe-5ebaaabd5aab"
      },
      "source": [
        "# 4 : 모델을 이용합니다.\n",
        "model.predict(x_house[:5])"
      ],
      "execution_count": null,
      "outputs": [
        {
          "output_type": "execute_result",
          "data": {
            "text/plain": [
              "array([[69.27041 ],\n",
              "       [89.22645 ],\n",
              "       [84.392204],\n",
              "       [89.12697 ],\n",
              "       [91.1984  ]], dtype=float32)"
            ]
          },
          "metadata": {},
          "execution_count": 12
        }
      ]
    },
    {
      "cell_type": "code",
      "metadata": {
        "colab": {
          "base_uri": "https://localhost:8080/"
        },
        "id": "_EUhr1PhjO41",
        "outputId": "8c1887d1-e54e-4d9d-da58-772e40c9b9c5"
      },
      "source": [
        "model.get_weights()"
      ],
      "execution_count": null,
      "outputs": [
        {
          "output_type": "execute_result",
          "data": {
            "text/plain": [
              "[array([[ 0.16850416],\n",
              "        [-0.25614548],\n",
              "        [-0.02363606],\n",
              "        [-0.06812973],\n",
              "        [-0.2698555 ],\n",
              "        [-0.6675718 ],\n",
              "        [ 0.01052461],\n",
              "        [-0.6116936 ],\n",
              "        [ 0.1929728 ],\n",
              "        [-0.2518419 ],\n",
              "        [-0.06230013],\n",
              "        [ 0.386069  ],\n",
              "        [ 0.502068  ]], dtype=float32), array([-0.14100753], dtype=float32)]"
            ]
          },
          "metadata": {},
          "execution_count": 13
        }
      ]
    },
    {
      "cell_type": "code",
      "metadata": {
        "colab": {
          "base_uri": "https://localhost:8080/"
        },
        "id": "1alxjq0IjVl5",
        "outputId": "df845e21-11a1-4478-f4df-3bc6c0d2adee"
      },
      "source": [
        "house.columns"
      ],
      "execution_count": null,
      "outputs": [
        {
          "output_type": "execute_result",
          "data": {
            "text/plain": [
              "Index(['crim', 'zn', 'indus', 'chas', 'nox', 'rm', 'age', 'dis', 'rad', 'tax',\n",
              "       'ptratio', 'b', 'lstat', 'medv'],\n",
              "      dtype='object')"
            ]
          },
          "metadata": {},
          "execution_count": 14
        }
      ]
    },
    {
      "cell_type": "code",
      "metadata": {
        "colab": {
          "base_uri": "https://localhost:8080/"
        },
        "id": "byktJXIpHozU",
        "outputId": "be6da5f2-ce2b-418b-e0da-cda433678510"
      },
      "source": [
        "\n",
        "\n",
        "# 아이리스 데이터\n",
        "\n",
        "path = 'https://raw.githubusercontent.com/blackdew/ml-tensorflow/master/data/csv/iris.csv'\n",
        "iris = pd.read_csv(path)\n",
        "print(iris.shape)\n",
        "iris.head()\n",
        "\n",
        "# 아이리스 독립변수 한글로\n",
        "print(iris.columns)\n",
        "\n",
        "독립 = iris[['꽃잎길이', '꽃잎폭', '꽃받침길이', '꽃받침폭']]\n",
        "종속 = iris[['품종']]\n",
        "print(독립.shape, 종속.shape)\n",
        "print(독립.head(2))\n",
        "print(종속.head(2))"
      ],
      "execution_count": null,
      "outputs": [
        {
          "output_type": "stream",
          "name": "stdout",
          "text": [
            "(150, 5)\n",
            "Index(['꽃잎길이', '꽃잎폭', '꽃받침길이', '꽃받침폭', '품종'], dtype='object')\n",
            "(150, 4) (150, 1)\n",
            "   꽃잎길이  꽃잎폭  꽃받침길이  꽃받침폭\n",
            "0   5.1  3.5    1.4   0.2\n",
            "1   4.9  3.0    1.4   0.2\n",
            "       품종\n",
            "0  setosa\n",
            "1  setosa\n"
          ]
        }
      ]
    },
    {
      "cell_type": "code",
      "metadata": {
        "id": "ro89cXt_H6cE"
      },
      "source": [
        "# 아이리스 품종 분류\n"
      ],
      "execution_count": null,
      "outputs": []
    },
    {
      "cell_type": "code",
      "metadata": {
        "colab": {
          "base_uri": "https://localhost:8080/"
        },
        "id": "_U-x_U_xNvIQ",
        "outputId": "20f82e81-52a0-44cf-a4f6-65de570db3c4"
      },
      "source": [
        "# 데이터를 준비\n",
        "\n",
        "import tensorflow as tf\n",
        "import pandas as pd\n",
        "\n",
        "path = \"https://raw.githubusercontent.com/blackdew/ml-tensorflow/master/data/csv/iris.csv\"\n",
        "iris = pd.read_csv(path)\n",
        "iris = pd.get_dummies(iris)\n",
        "print(iris.columns)\n",
        "\n",
        "x_iris = iris[['꽃잎길이', '꽃잎폭', '꽃받침길이', '꽃받침폭']]\n",
        "y_iris = iris[['품종_setosa', '품종_versicolor', '품종_virginica']]\n",
        "\n",
        "print(x_iris.shape, y_iris.shape)\n",
        "print(x_iris.head(1))\n",
        "print(y_iris.head(1))"
      ],
      "execution_count": null,
      "outputs": [
        {
          "output_type": "stream",
          "name": "stdout",
          "text": [
            "Index(['꽃잎길이', '꽃잎폭', '꽃받침길이', '꽃받침폭', '품종_setosa', '품종_versicolor',\n",
            "       '품종_virginica'],\n",
            "      dtype='object')\n",
            "(150, 4) (150, 3)\n",
            "   꽃잎길이  꽃잎폭  꽃받침길이  꽃받침폭\n",
            "0   5.1  3.5    1.4   0.2\n",
            "   품종_setosa  품종_versicolor  품종_virginica\n",
            "0          1              0             0\n"
          ]
        }
      ]
    },
    {
      "cell_type": "code",
      "metadata": {
        "id": "l7EEF1fVNzQn"
      },
      "source": [
        "# 모델을 준비\n",
        "X = tf.keras.layers.Input(shape=[4])\n",
        "Y = tf.keras.layers.Dense(3, activation='softmax')(X)\n",
        "model = tf.keras.models.Model(X, Y)\n",
        "model.compile(loss='categorical_crossentropy', metrics='accuracy')"
      ],
      "execution_count": null,
      "outputs": []
    },
    {
      "cell_type": "code",
      "metadata": {
        "colab": {
          "base_uri": "https://localhost:8080/"
        },
        "id": "2CLEMJ2JN0uC",
        "outputId": "01ea7dc8-54d1-4dd9-f141-d09f4b16e101"
      },
      "source": [
        "# 모델에 데이터를 학습\n",
        "model.fit(x_iris, y_iris, epochs=100)"
      ],
      "execution_count": null,
      "outputs": [
        {
          "output_type": "stream",
          "name": "stdout",
          "text": [
            "Epoch 1/100\n",
            "5/5 [==============================] - 0s 3ms/step - loss: 4.3321 - accuracy: 0.3333\n",
            "Epoch 2/100\n",
            "5/5 [==============================] - 0s 5ms/step - loss: 4.1713 - accuracy: 0.3333\n",
            "Epoch 3/100\n",
            "5/5 [==============================] - 0s 3ms/step - loss: 4.0575 - accuracy: 0.3333\n",
            "Epoch 4/100\n",
            "5/5 [==============================] - 0s 4ms/step - loss: 3.9545 - accuracy: 0.3333\n",
            "Epoch 5/100\n",
            "5/5 [==============================] - 0s 3ms/step - loss: 3.8560 - accuracy: 0.3333\n",
            "Epoch 6/100\n",
            "5/5 [==============================] - 0s 3ms/step - loss: 3.7611 - accuracy: 0.3333\n",
            "Epoch 7/100\n",
            "5/5 [==============================] - 0s 4ms/step - loss: 3.6691 - accuracy: 0.3333\n",
            "Epoch 8/100\n",
            "5/5 [==============================] - 0s 3ms/step - loss: 3.5787 - accuracy: 0.3333\n",
            "Epoch 9/100\n",
            "5/5 [==============================] - 0s 3ms/step - loss: 3.4881 - accuracy: 0.3333\n",
            "Epoch 10/100\n",
            "5/5 [==============================] - 0s 2ms/step - loss: 3.3961 - accuracy: 0.3333\n",
            "Epoch 11/100\n",
            "5/5 [==============================] - 0s 3ms/step - loss: 3.3051 - accuracy: 0.3333\n",
            "Epoch 12/100\n",
            "5/5 [==============================] - 0s 3ms/step - loss: 3.2153 - accuracy: 0.3333\n",
            "Epoch 13/100\n",
            "5/5 [==============================] - 0s 4ms/step - loss: 3.1281 - accuracy: 0.3333\n",
            "Epoch 14/100\n",
            "5/5 [==============================] - 0s 4ms/step - loss: 3.0413 - accuracy: 0.3333\n",
            "Epoch 15/100\n",
            "5/5 [==============================] - 0s 4ms/step - loss: 2.9529 - accuracy: 0.3333\n",
            "Epoch 16/100\n",
            "5/5 [==============================] - 0s 4ms/step - loss: 2.8669 - accuracy: 0.3333\n",
            "Epoch 17/100\n",
            "5/5 [==============================] - 0s 4ms/step - loss: 2.7803 - accuracy: 0.3333\n",
            "Epoch 18/100\n",
            "5/5 [==============================] - 0s 4ms/step - loss: 2.6944 - accuracy: 0.3333\n",
            "Epoch 19/100\n",
            "5/5 [==============================] - 0s 5ms/step - loss: 2.6107 - accuracy: 0.3333\n",
            "Epoch 20/100\n",
            "5/5 [==============================] - 0s 3ms/step - loss: 2.5282 - accuracy: 0.3333\n",
            "Epoch 21/100\n",
            "5/5 [==============================] - 0s 3ms/step - loss: 2.4437 - accuracy: 0.3333\n",
            "Epoch 22/100\n",
            "5/5 [==============================] - 0s 4ms/step - loss: 2.3634 - accuracy: 0.3333\n",
            "Epoch 23/100\n",
            "5/5 [==============================] - 0s 4ms/step - loss: 2.2860 - accuracy: 0.3333\n",
            "Epoch 24/100\n",
            "5/5 [==============================] - 0s 5ms/step - loss: 2.2115 - accuracy: 0.3333\n",
            "Epoch 25/100\n",
            "5/5 [==============================] - 0s 4ms/step - loss: 2.1381 - accuracy: 0.3333\n",
            "Epoch 26/100\n",
            "5/5 [==============================] - 0s 6ms/step - loss: 2.0657 - accuracy: 0.3333\n",
            "Epoch 27/100\n",
            "5/5 [==============================] - 0s 4ms/step - loss: 1.9941 - accuracy: 0.3333\n",
            "Epoch 28/100\n",
            "5/5 [==============================] - 0s 6ms/step - loss: 1.9242 - accuracy: 0.3333\n",
            "Epoch 29/100\n",
            "5/5 [==============================] - 0s 5ms/step - loss: 1.8564 - accuracy: 0.3333\n",
            "Epoch 30/100\n",
            "5/5 [==============================] - 0s 3ms/step - loss: 1.7935 - accuracy: 0.3333\n",
            "Epoch 31/100\n",
            "5/5 [==============================] - 0s 3ms/step - loss: 1.7315 - accuracy: 0.3333\n",
            "Epoch 32/100\n",
            "5/5 [==============================] - 0s 5ms/step - loss: 1.6708 - accuracy: 0.3333\n",
            "Epoch 33/100\n",
            "5/5 [==============================] - 0s 4ms/step - loss: 1.6120 - accuracy: 0.3333\n",
            "Epoch 34/100\n",
            "5/5 [==============================] - 0s 4ms/step - loss: 1.5585 - accuracy: 0.3333\n",
            "Epoch 35/100\n",
            "5/5 [==============================] - 0s 3ms/step - loss: 1.5074 - accuracy: 0.3333\n",
            "Epoch 36/100\n",
            "5/5 [==============================] - 0s 3ms/step - loss: 1.4600 - accuracy: 0.3400\n",
            "Epoch 37/100\n",
            "5/5 [==============================] - 0s 4ms/step - loss: 1.4154 - accuracy: 0.3400\n",
            "Epoch 38/100\n",
            "5/5 [==============================] - 0s 5ms/step - loss: 1.3728 - accuracy: 0.3400\n",
            "Epoch 39/100\n",
            "5/5 [==============================] - 0s 5ms/step - loss: 1.3318 - accuracy: 0.3467\n",
            "Epoch 40/100\n",
            "5/5 [==============================] - 0s 5ms/step - loss: 1.2931 - accuracy: 0.3467\n",
            "Epoch 41/100\n",
            "5/5 [==============================] - 0s 3ms/step - loss: 1.2568 - accuracy: 0.3533\n",
            "Epoch 42/100\n",
            "5/5 [==============================] - 0s 4ms/step - loss: 1.2252 - accuracy: 0.3533\n",
            "Epoch 43/100\n",
            "5/5 [==============================] - 0s 5ms/step - loss: 1.1967 - accuracy: 0.3533\n",
            "Epoch 44/100\n",
            "5/5 [==============================] - 0s 3ms/step - loss: 1.1699 - accuracy: 0.3533\n",
            "Epoch 45/100\n",
            "5/5 [==============================] - 0s 4ms/step - loss: 1.1445 - accuracy: 0.3467\n",
            "Epoch 46/100\n",
            "5/5 [==============================] - 0s 4ms/step - loss: 1.1231 - accuracy: 0.3533\n",
            "Epoch 47/100\n",
            "5/5 [==============================] - 0s 4ms/step - loss: 1.1051 - accuracy: 0.3467\n",
            "Epoch 48/100\n",
            "5/5 [==============================] - 0s 5ms/step - loss: 1.0892 - accuracy: 0.3467\n",
            "Epoch 49/100\n",
            "5/5 [==============================] - 0s 4ms/step - loss: 1.0730 - accuracy: 0.3467\n",
            "Epoch 50/100\n",
            "5/5 [==============================] - 0s 3ms/step - loss: 1.0587 - accuracy: 0.3400\n",
            "Epoch 51/100\n",
            "5/5 [==============================] - 0s 4ms/step - loss: 1.0452 - accuracy: 0.3400\n",
            "Epoch 52/100\n",
            "5/5 [==============================] - 0s 5ms/step - loss: 1.0342 - accuracy: 0.3333\n",
            "Epoch 53/100\n",
            "5/5 [==============================] - 0s 4ms/step - loss: 1.0231 - accuracy: 0.3333\n",
            "Epoch 54/100\n",
            "5/5 [==============================] - 0s 5ms/step - loss: 1.0121 - accuracy: 0.3267\n",
            "Epoch 55/100\n",
            "5/5 [==============================] - 0s 4ms/step - loss: 1.0029 - accuracy: 0.3467\n",
            "Epoch 56/100\n",
            "5/5 [==============================] - 0s 5ms/step - loss: 0.9943 - accuracy: 0.2867\n",
            "Epoch 57/100\n",
            "5/5 [==============================] - 0s 6ms/step - loss: 0.9856 - accuracy: 0.3267\n",
            "Epoch 58/100\n",
            "5/5 [==============================] - 0s 4ms/step - loss: 0.9777 - accuracy: 0.2667\n",
            "Epoch 59/100\n",
            "5/5 [==============================] - 0s 4ms/step - loss: 0.9697 - accuracy: 0.2867\n",
            "Epoch 60/100\n",
            "5/5 [==============================] - 0s 5ms/step - loss: 0.9621 - accuracy: 0.3333\n",
            "Epoch 61/100\n",
            "5/5 [==============================] - 0s 4ms/step - loss: 0.9529 - accuracy: 0.3133\n",
            "Epoch 62/100\n",
            "5/5 [==============================] - 0s 4ms/step - loss: 0.9464 - accuracy: 0.3067\n",
            "Epoch 63/100\n",
            "5/5 [==============================] - 0s 5ms/step - loss: 0.9393 - accuracy: 0.3867\n",
            "Epoch 64/100\n",
            "5/5 [==============================] - 0s 4ms/step - loss: 0.9333 - accuracy: 0.3733\n",
            "Epoch 65/100\n",
            "5/5 [==============================] - 0s 3ms/step - loss: 0.9250 - accuracy: 0.4000\n",
            "Epoch 66/100\n",
            "5/5 [==============================] - 0s 3ms/step - loss: 0.9195 - accuracy: 0.4267\n",
            "Epoch 67/100\n",
            "5/5 [==============================] - 0s 3ms/step - loss: 0.9121 - accuracy: 0.4333\n",
            "Epoch 68/100\n",
            "5/5 [==============================] - 0s 4ms/step - loss: 0.9048 - accuracy: 0.4667\n",
            "Epoch 69/100\n",
            "5/5 [==============================] - 0s 5ms/step - loss: 0.8985 - accuracy: 0.4667\n",
            "Epoch 70/100\n",
            "5/5 [==============================] - 0s 4ms/step - loss: 0.8919 - accuracy: 0.4867\n",
            "Epoch 71/100\n",
            "5/5 [==============================] - 0s 5ms/step - loss: 0.8861 - accuracy: 0.4800\n",
            "Epoch 72/100\n",
            "5/5 [==============================] - 0s 3ms/step - loss: 0.8795 - accuracy: 0.5200\n",
            "Epoch 73/100\n",
            "5/5 [==============================] - 0s 3ms/step - loss: 0.8723 - accuracy: 0.5200\n",
            "Epoch 74/100\n",
            "5/5 [==============================] - 0s 4ms/step - loss: 0.8665 - accuracy: 0.5133\n",
            "Epoch 75/100\n",
            "5/5 [==============================] - 0s 4ms/step - loss: 0.8603 - accuracy: 0.5600\n",
            "Epoch 76/100\n",
            "5/5 [==============================] - 0s 4ms/step - loss: 0.8545 - accuracy: 0.5333\n",
            "Epoch 77/100\n",
            "5/5 [==============================] - 0s 3ms/step - loss: 0.8478 - accuracy: 0.5200\n",
            "Epoch 78/100\n",
            "5/5 [==============================] - 0s 4ms/step - loss: 0.8413 - accuracy: 0.5400\n",
            "Epoch 79/100\n",
            "5/5 [==============================] - 0s 3ms/step - loss: 0.8358 - accuracy: 0.5333\n",
            "Epoch 80/100\n",
            "5/5 [==============================] - 0s 3ms/step - loss: 0.8304 - accuracy: 0.5400\n",
            "Epoch 81/100\n",
            "5/5 [==============================] - 0s 7ms/step - loss: 0.8247 - accuracy: 0.5200\n",
            "Epoch 82/100\n",
            "5/5 [==============================] - 0s 3ms/step - loss: 0.8188 - accuracy: 0.5600\n",
            "Epoch 83/100\n",
            "5/5 [==============================] - 0s 3ms/step - loss: 0.8135 - accuracy: 0.5400\n",
            "Epoch 84/100\n",
            "5/5 [==============================] - 0s 4ms/step - loss: 0.8074 - accuracy: 0.5267\n",
            "Epoch 85/100\n",
            "5/5 [==============================] - 0s 3ms/step - loss: 0.8021 - accuracy: 0.5600\n",
            "Epoch 86/100\n",
            "5/5 [==============================] - 0s 3ms/step - loss: 0.7969 - accuracy: 0.5467\n",
            "Epoch 87/100\n",
            "5/5 [==============================] - 0s 4ms/step - loss: 0.7912 - accuracy: 0.5667\n",
            "Epoch 88/100\n",
            "5/5 [==============================] - 0s 4ms/step - loss: 0.7870 - accuracy: 0.5733\n",
            "Epoch 89/100\n",
            "5/5 [==============================] - 0s 5ms/step - loss: 0.7807 - accuracy: 0.5800\n",
            "Epoch 90/100\n",
            "5/5 [==============================] - 0s 7ms/step - loss: 0.7775 - accuracy: 0.5867\n",
            "Epoch 91/100\n",
            "5/5 [==============================] - 0s 4ms/step - loss: 0.7707 - accuracy: 0.5733\n",
            "Epoch 92/100\n",
            "5/5 [==============================] - 0s 3ms/step - loss: 0.7670 - accuracy: 0.6000\n",
            "Epoch 93/100\n",
            "5/5 [==============================] - 0s 4ms/step - loss: 0.7607 - accuracy: 0.5933\n",
            "Epoch 94/100\n",
            "5/5 [==============================] - 0s 6ms/step - loss: 0.7559 - accuracy: 0.5933\n",
            "Epoch 95/100\n",
            "5/5 [==============================] - 0s 4ms/step - loss: 0.7522 - accuracy: 0.5867\n",
            "Epoch 96/100\n",
            "5/5 [==============================] - 0s 4ms/step - loss: 0.7477 - accuracy: 0.6000\n",
            "Epoch 97/100\n",
            "5/5 [==============================] - 0s 3ms/step - loss: 0.7432 - accuracy: 0.5933\n",
            "Epoch 98/100\n",
            "5/5 [==============================] - 0s 4ms/step - loss: 0.7389 - accuracy: 0.5867\n",
            "Epoch 99/100\n",
            "5/5 [==============================] - 0s 6ms/step - loss: 0.7348 - accuracy: 0.5933\n",
            "Epoch 100/100\n",
            "5/5 [==============================] - 0s 3ms/step - loss: 0.7299 - accuracy: 0.6067\n"
          ]
        },
        {
          "output_type": "execute_result",
          "data": {
            "text/plain": [
              "<keras.callbacks.History at 0x7fab2d6dd910>"
            ]
          },
          "metadata": {},
          "execution_count": 19
        }
      ]
    },
    {
      "cell_type": "code",
      "metadata": {
        "colab": {
          "base_uri": "https://localhost:8080/"
        },
        "id": "oGsKF83QN43u",
        "outputId": "18f4672c-39b7-446d-d305-24d70edbd4bb"
      },
      "source": [
        "# 모델을 이용\n",
        "sample = x_iris.sample(5)\n",
        "model.predict(sample)"
      ],
      "execution_count": null,
      "outputs": [
        {
          "output_type": "execute_result",
          "data": {
            "text/plain": [
              "array([[0.67958933, 0.11080203, 0.20960863],\n",
              "       [0.63439953, 0.1269656 , 0.23863485],\n",
              "       [0.1084807 , 0.491948  , 0.3995713 ],\n",
              "       [0.12082316, 0.4103745 , 0.4688023 ],\n",
              "       [0.59258354, 0.15530334, 0.25211304]], dtype=float32)"
            ]
          },
          "metadata": {},
          "execution_count": 20
        }
      ]
    },
    {
      "cell_type": "code",
      "metadata": {
        "colab": {
          "base_uri": "https://localhost:8080/",
          "height": 203
        },
        "id": "2Uxyn6gmRO6d",
        "outputId": "9e5eec72-f362-4320-a204-9e155b363d99"
      },
      "source": [
        "sample"
      ],
      "execution_count": null,
      "outputs": [
        {
          "output_type": "execute_result",
          "data": {
            "text/html": [
              "<div>\n",
              "<style scoped>\n",
              "    .dataframe tbody tr th:only-of-type {\n",
              "        vertical-align: middle;\n",
              "    }\n",
              "\n",
              "    .dataframe tbody tr th {\n",
              "        vertical-align: top;\n",
              "    }\n",
              "\n",
              "    .dataframe thead th {\n",
              "        text-align: right;\n",
              "    }\n",
              "</style>\n",
              "<table border=\"1\" class=\"dataframe\">\n",
              "  <thead>\n",
              "    <tr style=\"text-align: right;\">\n",
              "      <th></th>\n",
              "      <th>꽃잎길이</th>\n",
              "      <th>꽃잎폭</th>\n",
              "      <th>꽃받침길이</th>\n",
              "      <th>꽃받침폭</th>\n",
              "    </tr>\n",
              "  </thead>\n",
              "  <tbody>\n",
              "    <tr>\n",
              "      <th>48</th>\n",
              "      <td>5.3</td>\n",
              "      <td>3.7</td>\n",
              "      <td>1.5</td>\n",
              "      <td>0.2</td>\n",
              "    </tr>\n",
              "    <tr>\n",
              "      <th>2</th>\n",
              "      <td>4.7</td>\n",
              "      <td>3.2</td>\n",
              "      <td>1.3</td>\n",
              "      <td>0.2</td>\n",
              "    </tr>\n",
              "    <tr>\n",
              "      <th>103</th>\n",
              "      <td>6.3</td>\n",
              "      <td>2.9</td>\n",
              "      <td>5.6</td>\n",
              "      <td>1.8</td>\n",
              "    </tr>\n",
              "    <tr>\n",
              "      <th>77</th>\n",
              "      <td>6.7</td>\n",
              "      <td>3.0</td>\n",
              "      <td>5.0</td>\n",
              "      <td>1.7</td>\n",
              "    </tr>\n",
              "    <tr>\n",
              "      <th>37</th>\n",
              "      <td>4.9</td>\n",
              "      <td>3.1</td>\n",
              "      <td>1.5</td>\n",
              "      <td>0.1</td>\n",
              "    </tr>\n",
              "  </tbody>\n",
              "</table>\n",
              "</div>"
            ],
            "text/plain": [
              "     꽃잎길이  꽃잎폭  꽃받침길이  꽃받침폭\n",
              "48    5.3  3.7    1.5   0.2\n",
              "2     4.7  3.2    1.3   0.2\n",
              "103   6.3  2.9    5.6   1.8\n",
              "77    6.7  3.0    5.0   1.7\n",
              "37    4.9  3.1    1.5   0.1"
            ]
          },
          "metadata": {},
          "execution_count": 21
        }
      ]
    },
    {
      "cell_type": "code",
      "metadata": {
        "colab": {
          "base_uri": "https://localhost:8080/",
          "height": 203
        },
        "id": "whbAUJBxRZbB",
        "outputId": "72e0e44f-f031-45cd-d04c-b07de6de5011"
      },
      "source": [
        "y_iris.loc[[72, 74, 68, 8, 116], :]"
      ],
      "execution_count": null,
      "outputs": [
        {
          "output_type": "execute_result",
          "data": {
            "text/html": [
              "<div>\n",
              "<style scoped>\n",
              "    .dataframe tbody tr th:only-of-type {\n",
              "        vertical-align: middle;\n",
              "    }\n",
              "\n",
              "    .dataframe tbody tr th {\n",
              "        vertical-align: top;\n",
              "    }\n",
              "\n",
              "    .dataframe thead th {\n",
              "        text-align: right;\n",
              "    }\n",
              "</style>\n",
              "<table border=\"1\" class=\"dataframe\">\n",
              "  <thead>\n",
              "    <tr style=\"text-align: right;\">\n",
              "      <th></th>\n",
              "      <th>품종_setosa</th>\n",
              "      <th>품종_versicolor</th>\n",
              "      <th>품종_virginica</th>\n",
              "    </tr>\n",
              "  </thead>\n",
              "  <tbody>\n",
              "    <tr>\n",
              "      <th>72</th>\n",
              "      <td>0</td>\n",
              "      <td>1</td>\n",
              "      <td>0</td>\n",
              "    </tr>\n",
              "    <tr>\n",
              "      <th>74</th>\n",
              "      <td>0</td>\n",
              "      <td>1</td>\n",
              "      <td>0</td>\n",
              "    </tr>\n",
              "    <tr>\n",
              "      <th>68</th>\n",
              "      <td>0</td>\n",
              "      <td>1</td>\n",
              "      <td>0</td>\n",
              "    </tr>\n",
              "    <tr>\n",
              "      <th>8</th>\n",
              "      <td>1</td>\n",
              "      <td>0</td>\n",
              "      <td>0</td>\n",
              "    </tr>\n",
              "    <tr>\n",
              "      <th>116</th>\n",
              "      <td>0</td>\n",
              "      <td>0</td>\n",
              "      <td>1</td>\n",
              "    </tr>\n",
              "  </tbody>\n",
              "</table>\n",
              "</div>"
            ],
            "text/plain": [
              "     품종_setosa  품종_versicolor  품종_virginica\n",
              "72           0              1             0\n",
              "74           0              1             0\n",
              "68           0              1             0\n",
              "8            1              0             0\n",
              "116          0              0             1"
            ]
          },
          "metadata": {},
          "execution_count": 22
        }
      ]
    },
    {
      "cell_type": "code",
      "metadata": {
        "colab": {
          "base_uri": "https://localhost:8080/"
        },
        "id": "c6_dxULdRwSl",
        "outputId": "a3270d08-7a53-48aa-d55a-3b5b7b29b0b9"
      },
      "source": [
        "# 수식확인\n",
        "model.get_weights()\n"
      ],
      "execution_count": null,
      "outputs": [
        {
          "output_type": "execute_result",
          "data": {
            "text/plain": [
              "[array([[-0.47135743, -0.14599372,  0.06190503],\n",
              "        [ 0.23109347, -0.78007877, -0.79235625],\n",
              "        [-0.18274729,  0.3441875 , -0.21642339],\n",
              "        [-0.7279536 , -0.7086973 ,  0.06336915]], dtype=float32),\n",
              " array([ 0.38615322, -0.20493448,  0.06262877], dtype=float32)]"
            ]
          },
          "metadata": {},
          "execution_count": 23
        }
      ]
    },
    {
      "cell_type": "code",
      "metadata": {
        "colab": {
          "base_uri": "https://localhost:8080/"
        },
        "id": "fSLfLWqZScHc",
        "outputId": "6cfe5cc2-b070-46ad-d454-d49a0cf30f56"
      },
      "source": [
        "# 네번째 딥러닝 :  히든 레이어\n",
        "\n",
        "# 데이터를 준비\n",
        "import pandas as pd\n",
        "import tensorflow as tf\n",
        "\n",
        "house = pd.read_csv(\"https://raw.githubusercontent.com/blackdew/ml-tensorflow/master/data/csv/boston.csv\")\n",
        "print(house.columns)\n",
        "x_house = house[['crim', 'zn', 'indus', 'chas', 'nox', 'rm', 'age', 'dis', 'rad', 'tax',\n",
        "       'ptratio', 'b', 'lstat']]\n",
        "y_house = house[['medv']]\n",
        "print(x_house.shape, y_house.shape)"
      ],
      "execution_count": null,
      "outputs": [
        {
          "output_type": "stream",
          "name": "stdout",
          "text": [
            "Index(['crim', 'zn', 'indus', 'chas', 'nox', 'rm', 'age', 'dis', 'rad', 'tax',\n",
            "       'ptratio', 'b', 'lstat', 'medv'],\n",
            "      dtype='object')\n",
            "(506, 13) (506, 1)\n"
          ]
        }
      ]
    },
    {
      "cell_type": "code",
      "metadata": {
        "colab": {
          "base_uri": "https://localhost:8080/"
        },
        "id": "fojhrlmpf640",
        "outputId": "9ea9d380-f2a8-4d5c-ed2d-5b6b82992330"
      },
      "source": [
        "# 모델을 준비\n",
        "X = tf.keras.layers.Input(shape=[13])\n",
        "H = tf.keras.layers.Dense(5, activation='swish')(X)\n",
        "H = tf.keras.layers.Dense(5, activation='swish')(X)\n",
        "Y = tf.keras.layers.Dense(1)(H)\n",
        "model = tf.keras.models.Model(X, Y)\n",
        "model.compile(loss='mse')\n",
        "\n",
        "model.summary()"
      ],
      "execution_count": null,
      "outputs": [
        {
          "output_type": "stream",
          "name": "stdout",
          "text": [
            "Model: \"model_3\"\n",
            "_________________________________________________________________\n",
            " Layer (type)                Output Shape              Param #   \n",
            "=================================================================\n",
            " input_4 (InputLayer)        [(None, 13)]              0         \n",
            "                                                                 \n",
            " dense_4 (Dense)             (None, 5)                 70        \n",
            "                                                                 \n",
            " dense_5 (Dense)             (None, 1)                 6         \n",
            "                                                                 \n",
            "=================================================================\n",
            "Total params: 76\n",
            "Trainable params: 76\n",
            "Non-trainable params: 0\n",
            "_________________________________________________________________\n"
          ]
        }
      ]
    },
    {
      "cell_type": "code",
      "metadata": {
        "colab": {
          "base_uri": "https://localhost:8080/"
        },
        "id": "iab7F3lhf8OK",
        "outputId": "79b8fd8c-57a7-428a-cdaf-e74532e1e7aa"
      },
      "source": [
        "# 모델을 데이터로 학습\n",
        "model.fit(x_house, y_house, epochs=500, verbose=0)\n",
        "model.fit(x_house, y_house, epochs=10)"
      ],
      "execution_count": null,
      "outputs": [
        {
          "output_type": "stream",
          "name": "stdout",
          "text": [
            "Epoch 1/10\n",
            "16/16 [==============================] - 0s 2ms/step - loss: 26.1337\n",
            "Epoch 2/10\n",
            "16/16 [==============================] - 0s 2ms/step - loss: 25.2081\n",
            "Epoch 3/10\n",
            "16/16 [==============================] - 0s 2ms/step - loss: 25.4329\n",
            "Epoch 4/10\n",
            "16/16 [==============================] - 0s 3ms/step - loss: 25.0398\n",
            "Epoch 5/10\n",
            "16/16 [==============================] - 0s 2ms/step - loss: 24.9209\n",
            "Epoch 6/10\n",
            "16/16 [==============================] - 0s 2ms/step - loss: 25.9939\n",
            "Epoch 7/10\n",
            "16/16 [==============================] - 0s 2ms/step - loss: 25.7758\n",
            "Epoch 8/10\n",
            "16/16 [==============================] - 0s 2ms/step - loss: 24.7917\n",
            "Epoch 9/10\n",
            "16/16 [==============================] - 0s 2ms/step - loss: 25.4487\n",
            "Epoch 10/10\n",
            "16/16 [==============================] - 0s 2ms/step - loss: 26.3061\n"
          ]
        },
        {
          "output_type": "execute_result",
          "data": {
            "text/plain": [
              "<keras.callbacks.History at 0x7fab2d645750>"
            ]
          },
          "metadata": {},
          "execution_count": 26
        }
      ]
    },
    {
      "cell_type": "code",
      "metadata": {
        "id": "yjDaAyDPf9yE"
      },
      "source": [
        "# 모델을 이용"
      ],
      "execution_count": null,
      "outputs": []
    },
    {
      "cell_type": "code",
      "metadata": {
        "colab": {
          "base_uri": "https://localhost:8080/"
        },
        "id": "9EJ-RK2qmHdr",
        "outputId": "f4ce4a3e-2a52-4cbf-a6b5-7bd800b3ac37"
      },
      "source": [
        "# 아이리스 인공 신경망\n",
        "\n",
        "# 데이터 준비\n",
        "import pandas as pd\n",
        "import tensorflow as tf\n",
        "\n",
        "iris = pd.read_csv(\"https://raw.githubusercontent.com/blackdew/ml-tensorflow/master/data/csv/iris.csv\")\n",
        "iris = pd.get_dummies(iris)\n",
        "print(iris.columns)\n",
        "\n",
        "x_iris = iris[['꽃잎길이', '꽃잎폭', '꽃받침길이', '꽃받침폭']]\n",
        "y_iris = iris[['품종_setosa', '품종_versicolor',\n",
        "       '품종_virginica']]\n",
        "print(x_iris.shape, y_iris.shape)"
      ],
      "execution_count": null,
      "outputs": [
        {
          "output_type": "stream",
          "name": "stdout",
          "text": [
            "Index(['꽃잎길이', '꽃잎폭', '꽃받침길이', '꽃받침폭', '품종_setosa', '품종_versicolor',\n",
            "       '품종_virginica'],\n",
            "      dtype='object')\n",
            "(150, 4) (150, 3)\n"
          ]
        }
      ]
    },
    {
      "cell_type": "code",
      "metadata": {
        "colab": {
          "base_uri": "https://localhost:8080/"
        },
        "id": "uwJ1eEo7ndrx",
        "outputId": "58601722-513f-4f1b-936f-fffaba5a7740"
      },
      "source": [
        "# 모델 생성\n",
        "X = tf.keras.layers.Input(shape=[4])\n",
        "H = tf.keras.layers.Dense(8, activation='swish')(X)\n",
        "H = tf.keras.layers.Dense(8, activation='swish')(H)\n",
        "H = tf.keras.layers.Dense(8, activation='swish')(H)\n",
        "Y = tf.keras.layers.Dense(3, activation='softmax')(H)\n",
        "model = tf.keras.models.Model(X, Y)\n",
        "model.compile(loss='categorical_crossentropy', metrics='accuracy')\n",
        "model.summary()"
      ],
      "execution_count": null,
      "outputs": [
        {
          "output_type": "stream",
          "name": "stdout",
          "text": [
            "Model: \"model_4\"\n",
            "_________________________________________________________________\n",
            " Layer (type)                Output Shape              Param #   \n",
            "=================================================================\n",
            " input_5 (InputLayer)        [(None, 4)]               0         \n",
            "                                                                 \n",
            " dense_6 (Dense)             (None, 8)                 40        \n",
            "                                                                 \n",
            " dense_7 (Dense)             (None, 8)                 72        \n",
            "                                                                 \n",
            " dense_8 (Dense)             (None, 8)                 72        \n",
            "                                                                 \n",
            " dense_9 (Dense)             (None, 3)                 27        \n",
            "                                                                 \n",
            "=================================================================\n",
            "Total params: 211\n",
            "Trainable params: 211\n",
            "Non-trainable params: 0\n",
            "_________________________________________________________________\n"
          ]
        }
      ]
    },
    {
      "cell_type": "code",
      "metadata": {
        "colab": {
          "base_uri": "https://localhost:8080/"
        },
        "id": "Xov12bymoJsJ",
        "outputId": "1d09dd30-5fa6-4fb7-a8a1-e5e710f2d266"
      },
      "source": [
        "# 모델을 학습합니다.\n",
        "model.fit(x_iris, y_iris, epochs=100)\n"
      ],
      "execution_count": null,
      "outputs": [
        {
          "output_type": "stream",
          "name": "stdout",
          "text": [
            "Epoch 1/100\n",
            "5/5 [==============================] - 1s 4ms/step - loss: 1.7566 - accuracy: 0.0267\n",
            "Epoch 2/100\n",
            "5/5 [==============================] - 0s 4ms/step - loss: 1.5603 - accuracy: 0.0867\n",
            "Epoch 3/100\n",
            "5/5 [==============================] - 0s 4ms/step - loss: 1.4532 - accuracy: 0.1067\n",
            "Epoch 4/100\n",
            "5/5 [==============================] - 0s 4ms/step - loss: 1.3765 - accuracy: 0.1600\n",
            "Epoch 5/100\n",
            "5/5 [==============================] - 0s 4ms/step - loss: 1.3167 - accuracy: 0.2133\n",
            "Epoch 6/100\n",
            "5/5 [==============================] - 0s 4ms/step - loss: 1.2696 - accuracy: 0.2267\n",
            "Epoch 7/100\n",
            "5/5 [==============================] - 0s 3ms/step - loss: 1.2294 - accuracy: 0.2400\n",
            "Epoch 8/100\n",
            "5/5 [==============================] - 0s 3ms/step - loss: 1.1965 - accuracy: 0.2600\n",
            "Epoch 9/100\n",
            "5/5 [==============================] - 0s 4ms/step - loss: 1.1708 - accuracy: 0.3133\n",
            "Epoch 10/100\n",
            "5/5 [==============================] - 0s 4ms/step - loss: 1.1473 - accuracy: 0.3133\n",
            "Epoch 11/100\n",
            "5/5 [==============================] - 0s 3ms/step - loss: 1.1266 - accuracy: 0.3333\n",
            "Epoch 12/100\n",
            "5/5 [==============================] - 0s 3ms/step - loss: 1.1092 - accuracy: 0.3333\n",
            "Epoch 13/100\n",
            "5/5 [==============================] - 0s 4ms/step - loss: 1.0923 - accuracy: 0.3333\n",
            "Epoch 14/100\n",
            "5/5 [==============================] - 0s 4ms/step - loss: 1.0779 - accuracy: 0.3933\n",
            "Epoch 15/100\n",
            "5/5 [==============================] - 0s 3ms/step - loss: 1.0639 - accuracy: 0.4400\n",
            "Epoch 16/100\n",
            "5/5 [==============================] - 0s 5ms/step - loss: 1.0503 - accuracy: 0.4867\n",
            "Epoch 17/100\n",
            "5/5 [==============================] - 0s 4ms/step - loss: 1.0369 - accuracy: 0.6667\n",
            "Epoch 18/100\n",
            "5/5 [==============================] - 0s 4ms/step - loss: 1.0223 - accuracy: 0.7000\n",
            "Epoch 19/100\n",
            "5/5 [==============================] - 0s 4ms/step - loss: 1.0082 - accuracy: 0.7400\n",
            "Epoch 20/100\n",
            "5/5 [==============================] - 0s 4ms/step - loss: 0.9947 - accuracy: 0.6867\n",
            "Epoch 21/100\n",
            "5/5 [==============================] - 0s 5ms/step - loss: 0.9805 - accuracy: 0.7667\n",
            "Epoch 22/100\n",
            "5/5 [==============================] - 0s 3ms/step - loss: 0.9663 - accuracy: 0.6933\n",
            "Epoch 23/100\n",
            "5/5 [==============================] - 0s 3ms/step - loss: 0.9513 - accuracy: 0.7000\n",
            "Epoch 24/100\n",
            "5/5 [==============================] - 0s 3ms/step - loss: 0.9358 - accuracy: 0.7200\n",
            "Epoch 25/100\n",
            "5/5 [==============================] - 0s 4ms/step - loss: 0.9217 - accuracy: 0.7200\n",
            "Epoch 26/100\n",
            "5/5 [==============================] - 0s 3ms/step - loss: 0.9041 - accuracy: 0.6933\n",
            "Epoch 27/100\n",
            "5/5 [==============================] - 0s 7ms/step - loss: 0.8888 - accuracy: 0.7133\n",
            "Epoch 28/100\n",
            "5/5 [==============================] - 0s 4ms/step - loss: 0.8731 - accuracy: 0.6867\n",
            "Epoch 29/100\n",
            "5/5 [==============================] - 0s 3ms/step - loss: 0.8554 - accuracy: 0.6933\n",
            "Epoch 30/100\n",
            "5/5 [==============================] - 0s 4ms/step - loss: 0.8399 - accuracy: 0.6933\n",
            "Epoch 31/100\n",
            "5/5 [==============================] - 0s 5ms/step - loss: 0.8221 - accuracy: 0.6867\n",
            "Epoch 32/100\n",
            "5/5 [==============================] - 0s 4ms/step - loss: 0.8053 - accuracy: 0.7200\n",
            "Epoch 33/100\n",
            "5/5 [==============================] - 0s 4ms/step - loss: 0.7872 - accuracy: 0.6867\n",
            "Epoch 34/100\n",
            "5/5 [==============================] - 0s 4ms/step - loss: 0.7698 - accuracy: 0.7000\n",
            "Epoch 35/100\n",
            "5/5 [==============================] - 0s 4ms/step - loss: 0.7522 - accuracy: 0.7067\n",
            "Epoch 36/100\n",
            "5/5 [==============================] - 0s 5ms/step - loss: 0.7340 - accuracy: 0.7200\n",
            "Epoch 37/100\n",
            "5/5 [==============================] - 0s 5ms/step - loss: 0.7162 - accuracy: 0.7200\n",
            "Epoch 38/100\n",
            "5/5 [==============================] - 0s 4ms/step - loss: 0.6984 - accuracy: 0.6933\n",
            "Epoch 39/100\n",
            "5/5 [==============================] - 0s 5ms/step - loss: 0.6807 - accuracy: 0.7400\n",
            "Epoch 40/100\n",
            "5/5 [==============================] - 0s 4ms/step - loss: 0.6626 - accuracy: 0.7333\n",
            "Epoch 41/100\n",
            "5/5 [==============================] - 0s 5ms/step - loss: 0.6460 - accuracy: 0.7533\n",
            "Epoch 42/100\n",
            "5/5 [==============================] - 0s 5ms/step - loss: 0.6284 - accuracy: 0.7400\n",
            "Epoch 43/100\n",
            "5/5 [==============================] - 0s 5ms/step - loss: 0.6110 - accuracy: 0.7533\n",
            "Epoch 44/100\n",
            "5/5 [==============================] - 0s 4ms/step - loss: 0.5948 - accuracy: 0.7600\n",
            "Epoch 45/100\n",
            "5/5 [==============================] - 0s 5ms/step - loss: 0.5797 - accuracy: 0.8267\n",
            "Epoch 46/100\n",
            "5/5 [==============================] - 0s 4ms/step - loss: 0.5634 - accuracy: 0.7867\n",
            "Epoch 47/100\n",
            "5/5 [==============================] - 0s 4ms/step - loss: 0.5481 - accuracy: 0.8333\n",
            "Epoch 48/100\n",
            "5/5 [==============================] - 0s 4ms/step - loss: 0.5341 - accuracy: 0.8067\n",
            "Epoch 49/100\n",
            "5/5 [==============================] - 0s 3ms/step - loss: 0.5193 - accuracy: 0.8200\n",
            "Epoch 50/100\n",
            "5/5 [==============================] - 0s 4ms/step - loss: 0.5061 - accuracy: 0.8467\n",
            "Epoch 51/100\n",
            "5/5 [==============================] - 0s 4ms/step - loss: 0.4923 - accuracy: 0.8267\n",
            "Epoch 52/100\n",
            "5/5 [==============================] - 0s 3ms/step - loss: 0.4798 - accuracy: 0.8867\n",
            "Epoch 53/100\n",
            "5/5 [==============================] - 0s 4ms/step - loss: 0.4694 - accuracy: 0.8733\n",
            "Epoch 54/100\n",
            "5/5 [==============================] - 0s 3ms/step - loss: 0.4568 - accuracy: 0.8533\n",
            "Epoch 55/100\n",
            "5/5 [==============================] - 0s 4ms/step - loss: 0.4448 - accuracy: 0.8933\n",
            "Epoch 56/100\n",
            "5/5 [==============================] - 0s 3ms/step - loss: 0.4353 - accuracy: 0.9133\n",
            "Epoch 57/100\n",
            "5/5 [==============================] - 0s 3ms/step - loss: 0.4244 - accuracy: 0.8867\n",
            "Epoch 58/100\n",
            "5/5 [==============================] - 0s 4ms/step - loss: 0.4140 - accuracy: 0.9333\n",
            "Epoch 59/100\n",
            "5/5 [==============================] - 0s 4ms/step - loss: 0.4035 - accuracy: 0.9133\n",
            "Epoch 60/100\n",
            "5/5 [==============================] - 0s 6ms/step - loss: 0.3952 - accuracy: 0.9267\n",
            "Epoch 61/100\n",
            "5/5 [==============================] - 0s 4ms/step - loss: 0.3851 - accuracy: 0.9267\n",
            "Epoch 62/100\n",
            "5/5 [==============================] - 0s 4ms/step - loss: 0.3749 - accuracy: 0.9400\n",
            "Epoch 63/100\n",
            "5/5 [==============================] - 0s 4ms/step - loss: 0.3662 - accuracy: 0.9400\n",
            "Epoch 64/100\n",
            "5/5 [==============================] - 0s 4ms/step - loss: 0.3552 - accuracy: 0.9467\n",
            "Epoch 65/100\n",
            "5/5 [==============================] - 0s 4ms/step - loss: 0.3454 - accuracy: 0.9333\n",
            "Epoch 66/100\n",
            "5/5 [==============================] - 0s 6ms/step - loss: 0.3404 - accuracy: 0.9333\n",
            "Epoch 67/100\n",
            "5/5 [==============================] - 0s 5ms/step - loss: 0.3301 - accuracy: 0.9467\n",
            "Epoch 68/100\n",
            "5/5 [==============================] - 0s 4ms/step - loss: 0.3203 - accuracy: 0.9467\n",
            "Epoch 69/100\n",
            "5/5 [==============================] - 0s 4ms/step - loss: 0.3122 - accuracy: 0.9467\n",
            "Epoch 70/100\n",
            "5/5 [==============================] - 0s 4ms/step - loss: 0.3053 - accuracy: 0.9400\n",
            "Epoch 71/100\n",
            "5/5 [==============================] - 0s 4ms/step - loss: 0.2971 - accuracy: 0.9400\n",
            "Epoch 72/100\n",
            "5/5 [==============================] - 0s 4ms/step - loss: 0.2897 - accuracy: 0.9533\n",
            "Epoch 73/100\n",
            "5/5 [==============================] - 0s 4ms/step - loss: 0.2801 - accuracy: 0.9400\n",
            "Epoch 74/100\n",
            "5/5 [==============================] - 0s 3ms/step - loss: 0.2736 - accuracy: 0.9467\n",
            "Epoch 75/100\n",
            "5/5 [==============================] - 0s 3ms/step - loss: 0.2641 - accuracy: 0.9467\n",
            "Epoch 76/100\n",
            "5/5 [==============================] - 0s 5ms/step - loss: 0.2568 - accuracy: 0.9533\n",
            "Epoch 77/100\n",
            "5/5 [==============================] - 0s 4ms/step - loss: 0.2491 - accuracy: 0.9467\n",
            "Epoch 78/100\n",
            "5/5 [==============================] - 0s 3ms/step - loss: 0.2516 - accuracy: 0.9333\n",
            "Epoch 79/100\n",
            "5/5 [==============================] - 0s 4ms/step - loss: 0.2365 - accuracy: 0.9467\n",
            "Epoch 80/100\n",
            "5/5 [==============================] - 0s 5ms/step - loss: 0.2333 - accuracy: 0.9467\n",
            "Epoch 81/100\n",
            "5/5 [==============================] - 0s 4ms/step - loss: 0.2264 - accuracy: 0.9533\n",
            "Epoch 82/100\n",
            "5/5 [==============================] - 0s 7ms/step - loss: 0.2190 - accuracy: 0.9533\n",
            "Epoch 83/100\n",
            "5/5 [==============================] - 0s 5ms/step - loss: 0.2158 - accuracy: 0.9467\n",
            "Epoch 84/100\n",
            "5/5 [==============================] - 0s 4ms/step - loss: 0.2094 - accuracy: 0.9533\n",
            "Epoch 85/100\n",
            "5/5 [==============================] - 0s 5ms/step - loss: 0.2086 - accuracy: 0.9400\n",
            "Epoch 86/100\n",
            "5/5 [==============================] - 0s 5ms/step - loss: 0.2016 - accuracy: 0.9400\n",
            "Epoch 87/100\n",
            "5/5 [==============================] - 0s 5ms/step - loss: 0.1957 - accuracy: 0.9467\n",
            "Epoch 88/100\n",
            "5/5 [==============================] - 0s 5ms/step - loss: 0.1909 - accuracy: 0.9533\n",
            "Epoch 89/100\n",
            "5/5 [==============================] - 0s 4ms/step - loss: 0.1863 - accuracy: 0.9467\n",
            "Epoch 90/100\n",
            "5/5 [==============================] - 0s 6ms/step - loss: 0.1832 - accuracy: 0.9600\n",
            "Epoch 91/100\n",
            "5/5 [==============================] - 0s 4ms/step - loss: 0.1854 - accuracy: 0.9533\n",
            "Epoch 92/100\n",
            "5/5 [==============================] - 0s 5ms/step - loss: 0.1758 - accuracy: 0.9467\n",
            "Epoch 93/100\n",
            "5/5 [==============================] - 0s 4ms/step - loss: 0.1735 - accuracy: 0.9533\n",
            "Epoch 94/100\n",
            "5/5 [==============================] - 0s 5ms/step - loss: 0.1716 - accuracy: 0.9533\n",
            "Epoch 95/100\n",
            "5/5 [==============================] - 0s 5ms/step - loss: 0.1657 - accuracy: 0.9467\n",
            "Epoch 96/100\n",
            "5/5 [==============================] - 0s 4ms/step - loss: 0.1626 - accuracy: 0.9600\n",
            "Epoch 97/100\n",
            "5/5 [==============================] - 0s 4ms/step - loss: 0.1572 - accuracy: 0.9600\n",
            "Epoch 98/100\n",
            "5/5 [==============================] - 0s 5ms/step - loss: 0.1605 - accuracy: 0.9667\n",
            "Epoch 99/100\n",
            "5/5 [==============================] - 0s 5ms/step - loss: 0.1531 - accuracy: 0.9533\n",
            "Epoch 100/100\n",
            "5/5 [==============================] - 0s 5ms/step - loss: 0.1493 - accuracy: 0.9533\n"
          ]
        },
        {
          "output_type": "execute_result",
          "data": {
            "text/plain": [
              "<keras.callbacks.History at 0x7fab2cf83c90>"
            ]
          },
          "metadata": {},
          "execution_count": 30
        }
      ]
    },
    {
      "cell_type": "code",
      "metadata": {
        "id": "ZNx167DQogyl"
      },
      "source": [
        "# 딥러닝 예제 (AND 게이트)\n",
        "\n",
        "x_train = [[0, 0], \n",
        "          [1, 0],\n",
        "          [0, 1],\n",
        "          [1, 1]]\n",
        "y_train = [[0, 0],\n",
        "          [0, 1],\n",
        "          [0, 1],\n",
        "          [1, 1]]\n"
      ],
      "execution_count": null,
      "outputs": []
    },
    {
      "cell_type": "code",
      "metadata": {
        "id": "eTU550WY5tyu"
      },
      "source": [
        "X = tf.keras.layers.Input(shape=[2])\n",
        "H = tf.keras.layers.Dense(8, activation=\"swish\")(X)\n",
        "H = tf.keras.layers.Dense(8, activation=\"swish\")(H)\n",
        "H = tf.keras.layers.Dense(8, activation=\"swish\")(H)\n",
        "Y = tf.keras.layers.Dense(2, activation=\"sigmoid\")(H)\n",
        "model = tf.keras.models.Model(X, Y)\n",
        "model.compile(loss=\"binary_crossentropy\", metrics=\"accuracy\")"
      ],
      "execution_count": null,
      "outputs": []
    },
    {
      "cell_type": "code",
      "metadata": {
        "id": "zurJWzhr6EL3",
        "colab": {
          "base_uri": "https://localhost:8080/"
        },
        "outputId": "4d53e479-62fe-4345-f68a-6eff93caebf7"
      },
      "source": [
        "model.fit(x_train, y_train, epochs=1000, verbose=0)\n",
        "model.fit(x_train, y_train, epochs=10)\n"
      ],
      "execution_count": null,
      "outputs": [
        {
          "output_type": "stream",
          "name": "stdout",
          "text": [
            "Epoch 1/10\n",
            "1/1 [==============================] - 0s 10ms/step - loss: 1.6536e-08 - accuracy: 0.5000\n",
            "Epoch 2/10\n",
            "1/1 [==============================] - 0s 7ms/step - loss: 1.6625e-08 - accuracy: 0.5000\n",
            "Epoch 3/10\n",
            "1/1 [==============================] - 0s 11ms/step - loss: 1.6199e-08 - accuracy: 0.5000\n",
            "Epoch 4/10\n",
            "1/1 [==============================] - 0s 9ms/step - loss: 1.6284e-08 - accuracy: 0.5000\n",
            "Epoch 5/10\n",
            "1/1 [==============================] - 0s 12ms/step - loss: 1.6375e-08 - accuracy: 0.5000\n",
            "Epoch 6/10\n",
            "1/1 [==============================] - 0s 13ms/step - loss: 1.6472e-08 - accuracy: 0.5000\n",
            "Epoch 7/10\n",
            "1/1 [==============================] - 0s 6ms/step - loss: 1.5674e-08 - accuracy: 0.5000\n",
            "Epoch 8/10\n",
            "1/1 [==============================] - 0s 11ms/step - loss: 1.5751e-08 - accuracy: 0.5000\n",
            "Epoch 9/10\n",
            "1/1 [==============================] - 0s 13ms/step - loss: 1.5835e-08 - accuracy: 0.5000\n",
            "Epoch 10/10\n",
            "1/1 [==============================] - 0s 14ms/step - loss: 1.5923e-08 - accuracy: 0.5000\n"
          ]
        },
        {
          "output_type": "execute_result",
          "data": {
            "text/plain": [
              "<keras.callbacks.History at 0x7faab41d0b90>"
            ]
          },
          "metadata": {},
          "execution_count": 33
        }
      ]
    },
    {
      "cell_type": "code",
      "metadata": {
        "colab": {
          "base_uri": "https://localhost:8080/"
        },
        "id": "_pRJBQHJfeKc",
        "outputId": "8ee5c7e9-383c-46d6-ae5f-e228c7217635"
      },
      "source": [
        "model.predict(x_train)"
      ],
      "execution_count": null,
      "outputs": [
        {
          "output_type": "execute_result",
          "data": {
            "text/plain": [
              "array([[1.47367869e-08, 3.31334356e-08],\n",
              "       [1.18200845e-08, 1.00000000e+00],\n",
              "       [1.32116518e-09, 1.00000000e+00],\n",
              "       [1.00000000e+00, 1.00000000e+00]], dtype=float32)"
            ]
          },
          "metadata": {},
          "execution_count": 34
        }
      ]
    },
    {
      "cell_type": "code",
      "metadata": {
        "colab": {
          "base_uri": "https://localhost:8080/"
        },
        "id": "O2N9OVTufgHw",
        "outputId": "6c111620-83fb-4bac-9417-619953a854cb"
      },
      "source": [
        "x_input = [\n",
        "    [1, 2],\n",
        "    [1, 5],\n",
        "    [2, 2],\n",
        "    [2, 9],\n",
        "    [3, 1],\n",
        "    [3, 7],\n",
        "    [4, 3],\n",
        "    [4, 8],\n",
        "    [5, 8],\n",
        "    [5, 3],\n",
        "    [6, 5],\n",
        "    [6, 9],\n",
        "    [7, 3],\n",
        "    [7, 1],\n",
        "    [8, 5],\n",
        "    [8, 8],\n",
        "    [9, 4],\n",
        "    [9, 3],\n",
        "]\n",
        "y_label = [[sum(e)] for e in x_input]\n",
        "y_label"
      ],
      "execution_count": null,
      "outputs": [
        {
          "output_type": "execute_result",
          "data": {
            "text/plain": [
              "[[3],\n",
              " [6],\n",
              " [4],\n",
              " [11],\n",
              " [4],\n",
              " [10],\n",
              " [7],\n",
              " [12],\n",
              " [13],\n",
              " [8],\n",
              " [11],\n",
              " [15],\n",
              " [10],\n",
              " [8],\n",
              " [13],\n",
              " [16],\n",
              " [13],\n",
              " [12]]"
            ]
          },
          "metadata": {},
          "execution_count": 35
        }
      ]
    },
    {
      "cell_type": "code",
      "metadata": {
        "id": "WTtV5VZDfjSs"
      },
      "source": [
        "X = tf.keras.layers.Input(shape=[2])\n",
        "H = tf.keras.layers.Dense(8, activation=\"swish\")(X)\n",
        "H = tf.keras.layers.Dense(8, activation=\"swish\")(H)\n",
        "H = tf.keras.layers.Dense(8, activation=\"swish\")(H)\n",
        "Y = tf.keras.layers.Dense(1)(H)\n",
        "model = tf.keras.models.Model(X, Y)\n",
        "model.compile(loss=\"mse\", metrics=tf.keras.metrics)"
      ],
      "execution_count": null,
      "outputs": []
    },
    {
      "cell_type": "code",
      "metadata": {
        "colab": {
          "base_uri": "https://localhost:8080/",
          "height": 387
        },
        "id": "CSv5dDPthmcD",
        "outputId": "7c15e04b-4fd5-4318-fccb-1e4551d95f5c"
      },
      "source": [
        "model.fit(x_input, y_label, epochs=1000, verbose=0)\n",
        "model.fit(x_input, y_label, epochs=10)"
      ],
      "execution_count": null,
      "outputs": [
        {
          "output_type": "error",
          "ename": "TypeError",
          "evalue": "ignored",
          "traceback": [
            "\u001b[0;31m---------------------------------------------------------------------------\u001b[0m",
            "\u001b[0;31mTypeError\u001b[0m                                 Traceback (most recent call last)",
            "\u001b[0;32m<ipython-input-38-eb5764927479>\u001b[0m in \u001b[0;36m<module>\u001b[0;34m()\u001b[0m\n\u001b[0;32m----> 1\u001b[0;31m \u001b[0mmodel\u001b[0m\u001b[0;34m.\u001b[0m\u001b[0mfit\u001b[0m\u001b[0;34m(\u001b[0m\u001b[0mx_input\u001b[0m\u001b[0;34m,\u001b[0m \u001b[0my_label\u001b[0m\u001b[0;34m,\u001b[0m \u001b[0mepochs\u001b[0m\u001b[0;34m=\u001b[0m\u001b[0;36m1000\u001b[0m\u001b[0;34m,\u001b[0m \u001b[0mverbose\u001b[0m\u001b[0;34m=\u001b[0m\u001b[0;36m0\u001b[0m\u001b[0;34m)\u001b[0m\u001b[0;34m\u001b[0m\u001b[0;34m\u001b[0m\u001b[0m\n\u001b[0m\u001b[1;32m      2\u001b[0m \u001b[0mmodel\u001b[0m\u001b[0;34m.\u001b[0m\u001b[0mfit\u001b[0m\u001b[0;34m(\u001b[0m\u001b[0mx_input\u001b[0m\u001b[0;34m,\u001b[0m \u001b[0my_label\u001b[0m\u001b[0;34m,\u001b[0m \u001b[0mepochs\u001b[0m\u001b[0;34m=\u001b[0m\u001b[0;36m10\u001b[0m\u001b[0;34m)\u001b[0m\u001b[0;34m\u001b[0m\u001b[0;34m\u001b[0m\u001b[0m\n",
            "\u001b[0;32m/usr/local/lib/python3.7/dist-packages/keras/utils/traceback_utils.py\u001b[0m in \u001b[0;36merror_handler\u001b[0;34m(*args, **kwargs)\u001b[0m\n\u001b[1;32m     65\u001b[0m     \u001b[0;32mexcept\u001b[0m \u001b[0mException\u001b[0m \u001b[0;32mas\u001b[0m \u001b[0me\u001b[0m\u001b[0;34m:\u001b[0m  \u001b[0;31m# pylint: disable=broad-except\u001b[0m\u001b[0;34m\u001b[0m\u001b[0;34m\u001b[0m\u001b[0m\n\u001b[1;32m     66\u001b[0m       \u001b[0mfiltered_tb\u001b[0m \u001b[0;34m=\u001b[0m \u001b[0m_process_traceback_frames\u001b[0m\u001b[0;34m(\u001b[0m\u001b[0me\u001b[0m\u001b[0;34m.\u001b[0m\u001b[0m__traceback__\u001b[0m\u001b[0;34m)\u001b[0m\u001b[0;34m\u001b[0m\u001b[0;34m\u001b[0m\u001b[0m\n\u001b[0;32m---> 67\u001b[0;31m       \u001b[0;32mraise\u001b[0m \u001b[0me\u001b[0m\u001b[0;34m.\u001b[0m\u001b[0mwith_traceback\u001b[0m\u001b[0;34m(\u001b[0m\u001b[0mfiltered_tb\u001b[0m\u001b[0;34m)\u001b[0m \u001b[0;32mfrom\u001b[0m \u001b[0;32mNone\u001b[0m\u001b[0;34m\u001b[0m\u001b[0;34m\u001b[0m\u001b[0m\n\u001b[0m\u001b[1;32m     68\u001b[0m     \u001b[0;32mfinally\u001b[0m\u001b[0;34m:\u001b[0m\u001b[0;34m\u001b[0m\u001b[0;34m\u001b[0m\u001b[0m\n\u001b[1;32m     69\u001b[0m       \u001b[0;32mdel\u001b[0m \u001b[0mfiltered_tb\u001b[0m\u001b[0;34m\u001b[0m\u001b[0;34m\u001b[0m\u001b[0m\n",
            "\u001b[0;32m/usr/local/lib/python3.7/dist-packages/tensorflow/python/eager/def_function.py\u001b[0m in \u001b[0;36m_call\u001b[0;34m(self, *args, **kwds)\u001b[0m\n\u001b[1;32m    940\u001b[0m       \u001b[0;31m# In this case we have created variables on the first call, so we run the\u001b[0m\u001b[0;34m\u001b[0m\u001b[0;34m\u001b[0m\u001b[0;34m\u001b[0m\u001b[0m\n\u001b[1;32m    941\u001b[0m       \u001b[0;31m# defunned version which is guaranteed to never create variables.\u001b[0m\u001b[0;34m\u001b[0m\u001b[0;34m\u001b[0m\u001b[0;34m\u001b[0m\u001b[0m\n\u001b[0;32m--> 942\u001b[0;31m       \u001b[0;32mreturn\u001b[0m \u001b[0mself\u001b[0m\u001b[0;34m.\u001b[0m\u001b[0m_stateless_fn\u001b[0m\u001b[0;34m(\u001b[0m\u001b[0;34m*\u001b[0m\u001b[0margs\u001b[0m\u001b[0;34m,\u001b[0m \u001b[0;34m**\u001b[0m\u001b[0mkwds\u001b[0m\u001b[0;34m)\u001b[0m  \u001b[0;31m# pylint: disable=not-callable\u001b[0m\u001b[0;34m\u001b[0m\u001b[0;34m\u001b[0m\u001b[0m\n\u001b[0m\u001b[1;32m    943\u001b[0m     \u001b[0;32melif\u001b[0m \u001b[0mself\u001b[0m\u001b[0;34m.\u001b[0m\u001b[0m_stateful_fn\u001b[0m \u001b[0;32mis\u001b[0m \u001b[0;32mnot\u001b[0m \u001b[0;32mNone\u001b[0m\u001b[0;34m:\u001b[0m\u001b[0;34m\u001b[0m\u001b[0;34m\u001b[0m\u001b[0m\n\u001b[1;32m    944\u001b[0m       \u001b[0;31m# Release the lock early so that multiple threads can perform the call\u001b[0m\u001b[0;34m\u001b[0m\u001b[0;34m\u001b[0m\u001b[0;34m\u001b[0m\u001b[0m\n",
            "\u001b[0;31mTypeError\u001b[0m: 'NoneType' object is not callable"
          ]
        }
      ]
    },
    {
      "cell_type": "code",
      "metadata": {
        "id": "UqfS2E1yfn7m"
      },
      "source": [
        "model.predict([[12, 11]])"
      ],
      "execution_count": null,
      "outputs": []
    },
    {
      "cell_type": "code",
      "metadata": {
        "id": "NGbAp_O2fpi6"
      },
      "source": [
        "# '함수형'의 의미\n",
        "# 요즘 언어는 함수형 언어를 지향\n",
        "# 절차형 언어 :  가장 클래식함 i.e C언어\n",
        "# 객체지향 : 그 다음 i.e. Java나 c++, class로 묶어냄\n",
        "# 함수형 : 최근형, 함수가 변수에 저장이 된다."
      ],
      "execution_count": null,
      "outputs": []
    },
    {
      "cell_type": "code",
      "metadata": {
        "id": "QMUcO9BDkdGp"
      },
      "source": [
        "# 함수 예제\n",
        "def add(a, b):\n",
        "  return a + b\n",
        "print(add(1, 3))  # add는 변수, function이란 타입의 \n",
        "print(type(add))"
      ],
      "execution_count": null,
      "outputs": []
    },
    {
      "cell_type": "code",
      "metadata": {
        "id": "Xtdnp_Hnkhwn"
      },
      "source": [
        "number = 1\n",
        "print(number)\n",
        "print(type(number))\n"
      ],
      "execution_count": null,
      "outputs": []
    },
    {
      "cell_type": "code",
      "metadata": {
        "id": "ydrL0IllkkN5"
      },
      "source": [
        "add"
      ],
      "execution_count": null,
      "outputs": []
    },
    {
      "cell_type": "code",
      "metadata": {
        "id": "D9j553X-knnR"
      },
      "source": [
        "def add(a, b):\n",
        "  return a + b\n",
        "\n",
        "def minus(a, b):\n",
        "  return a - b\n",
        "\n",
        "def func(f, a, b):\n",
        "  return f(a, b)\n",
        "\n",
        "print(func(add, 3, 2))\n",
        "print(func(minus, 3, 2))"
      ],
      "execution_count": null,
      "outputs": []
    },
    {
      "cell_type": "code",
      "metadata": {
        "id": "rC-tQfvYllfv"
      },
      "source": [
        "# lambda 함수 : 인스턴트 함수 생성\n",
        "add = lambda a, b: a + b  # ㅣlambda : 이름없이 익명함수를 만든다.\n",
        "minus = lambda a, b: a - b\n",
        "def func(f, a, b):\n",
        "  return f(a, b)\n",
        "\n",
        "print(func(add, 3, 2))\n",
        "print(func(minus, 3, 2))\n",
        "print(func(lambda a, b: a * b, 3, 2))  # lambda : 필요할때만 사용하고 저장 안됨\n",
        "print(func(lambda a, b: a / b, 3, 2))\n"
      ],
      "execution_count": null,
      "outputs": []
    },
    {
      "cell_type": "code",
      "metadata": {
        "id": "27jcnNNEl7xD"
      },
      "source": [
        "# 함수 만들기\n",
        "def get_func(what='add'):\n",
        "  if what == 'minus':\n",
        "    return lambda a, b: a - b\n",
        "\n",
        "  return lambda a, b: a + b\n",
        "print(get_func('add')(1, 3))\n",
        "print(get_func('minus')(1, 3))\n"
      ],
      "execution_count": null,
      "outputs": []
    },
    {
      "cell_type": "code",
      "metadata": {
        "id": "i-Qu0Rl9nOw1"
      },
      "source": [
        "# 객체 지향형\n",
        "a = 'abc'  # abc 객체\n",
        "print(dir(a))"
      ],
      "execution_count": null,
      "outputs": []
    },
    {
      "cell_type": "code",
      "metadata": {
        "id": "QxLU1tHVsfag"
      },
      "source": [
        "print(a.count('a'))\n",
        "print(b.count(1))\n"
      ],
      "execution_count": null,
      "outputs": []
    },
    {
      "cell_type": "code",
      "metadata": {
        "id": "wWCE-Xlgrv5v"
      },
      "source": [
        "b = [1, 2, 3]  # 1, 2, 3가 객체\n",
        "print(dir(b))"
      ],
      "execution_count": null,
      "outputs": []
    },
    {
      "cell_type": "code",
      "metadata": {
        "id": "XORC6QgOr14L"
      },
      "source": [
        "# 객체 : 각각의 개별 데이터에 적용할 함수, 병렬 처리 가능\n",
        "\n",
        "users = [\n",
        "         ['이숙번', 70, 80, 90],\n",
        "         ['이고잉', 82, 85, 83],\n",
        "         ['강두루', 56, 91, 90]\n",
        "]\n",
        "\n",
        "sorted(users, key=lambda x: sum(x[1:]), reverse=True)"
      ],
      "execution_count": null,
      "outputs": []
    },
    {
      "cell_type": "code",
      "metadata": {
        "colab": {
          "base_uri": "https://localhost:8080/"
        },
        "id": "ZNPBIHANvBz0",
        "outputId": "8494d640-7123-42d7-dd57-5508ab40f32e"
      },
      "source": [
        "# 보스턴 집값 예측 모델\n",
        "\n",
        "import tensorflow as tf\n",
        "import pandas as pd\n",
        "\n",
        "boston = pd.read_csv(\"https://raw.githubusercontent.com/blackdew/ml-tensorflow/master/data/csv/boston.csv\")\n",
        "print(boston.columns)\n",
        "\n",
        "x_boston = boston.drop(['medv'], axis=1)\n",
        "y_boston = boston[['medv']]\n",
        "print(x_boston.shape, y_boston.shape)"
      ],
      "execution_count": null,
      "outputs": [
        {
          "output_type": "stream",
          "name": "stdout",
          "text": [
            "Index(['crim', 'zn', 'indus', 'chas', 'nox', 'rm', 'age', 'dis', 'rad', 'tax',\n",
            "       'ptratio', 'b', 'lstat', 'medv'],\n",
            "      dtype='object')\n",
            "(506, 13) (506, 1)\n"
          ]
        }
      ]
    },
    {
      "cell_type": "code",
      "metadata": {
        "id": "WxlZ5K3pv5pq",
        "colab": {
          "base_uri": "https://localhost:8080/",
          "height": 471
        },
        "outputId": "83cd0598-dad2-46e8-c885-04b8bf890714"
      },
      "source": [
        "X = tf.keras.Input(shape=[13])\n",
        "\n",
        "H = tf.keras.layers.Dense(8, activation='swish')(X)\n",
        "H = tf.keras.layers.BatchNormalization()(H)\n",
        "Y = tf.keras.layers.Activation('swish')(H)\n",
        "\n",
        "H = tf.keras.layers.Dense(8, activation='swish')(X)\n",
        "H = tf.keras.layers.BatchNormalization()(H)\n",
        "Y = tf.keras.layers.Activation('swish')(H)\n",
        "\n",
        "H = tf.keras.layers.Dense(8, activation='swish')(X)\n",
        "H = tf.keras.layers.BatchNormalization()(H)\n",
        "Y = tf.keras.layers.Activation('swish')(H)\n",
        "\n",
        "Y = tf.keras.layers.Dense(1)(H)\n",
        "\n",
        "model = tf.keras.Model(X, Y)\n",
        "model.compile(optimizaer=tf.keras.optimizers.Adam(0.0001), loss=tf.keras.losses.mse)\n",
        "\n",
        "# model = tf.keras.Model(X, Y)\n",
        "# model.compile(loss=\"mse\")  # 소문자로 시작하는 얘는 함수 i.e. mse\n",
        "# 대문자 MSE는 class임, 이 상태로는 함수 안되고 .MeanSquaredError()라는 식으로 써야함"
      ],
      "execution_count": null,
      "outputs": [
        {
          "output_type": "error",
          "ename": "TypeError",
          "evalue": "ignored",
          "traceback": [
            "\u001b[0;31m---------------------------------------------------------------------------\u001b[0m",
            "\u001b[0;31mTypeError\u001b[0m                                 Traceback (most recent call last)",
            "\u001b[0;32m<ipython-input-48-e1bbb3ae53db>\u001b[0m in \u001b[0;36m<module>\u001b[0;34m()\u001b[0m\n\u001b[1;32m     16\u001b[0m \u001b[0;34m\u001b[0m\u001b[0m\n\u001b[1;32m     17\u001b[0m \u001b[0mmodel\u001b[0m \u001b[0;34m=\u001b[0m \u001b[0mtf\u001b[0m\u001b[0;34m.\u001b[0m\u001b[0mkeras\u001b[0m\u001b[0;34m.\u001b[0m\u001b[0mModel\u001b[0m\u001b[0;34m(\u001b[0m\u001b[0mX\u001b[0m\u001b[0;34m,\u001b[0m \u001b[0mY\u001b[0m\u001b[0;34m)\u001b[0m\u001b[0;34m\u001b[0m\u001b[0;34m\u001b[0m\u001b[0m\n\u001b[0;32m---> 18\u001b[0;31m \u001b[0mmodel\u001b[0m\u001b[0;34m.\u001b[0m\u001b[0mcompile\u001b[0m\u001b[0;34m(\u001b[0m\u001b[0moptimizaer\u001b[0m\u001b[0;34m=\u001b[0m\u001b[0mtf\u001b[0m\u001b[0;34m.\u001b[0m\u001b[0mkeras\u001b[0m\u001b[0;34m.\u001b[0m\u001b[0moptimizers\u001b[0m\u001b[0;34m.\u001b[0m\u001b[0mAdam\u001b[0m\u001b[0;34m(\u001b[0m\u001b[0;36m0.0001\u001b[0m\u001b[0;34m)\u001b[0m\u001b[0;34m,\u001b[0m \u001b[0mloss\u001b[0m\u001b[0;34m=\u001b[0m\u001b[0mtf\u001b[0m\u001b[0;34m.\u001b[0m\u001b[0mkeras\u001b[0m\u001b[0;34m.\u001b[0m\u001b[0mlosses\u001b[0m\u001b[0;34m.\u001b[0m\u001b[0mmse\u001b[0m\u001b[0;34m)\u001b[0m\u001b[0;34m\u001b[0m\u001b[0;34m\u001b[0m\u001b[0m\n\u001b[0m\u001b[1;32m     19\u001b[0m \u001b[0;34m\u001b[0m\u001b[0m\n\u001b[1;32m     20\u001b[0m \u001b[0;31m# model = tf.keras.Model(X, Y)\u001b[0m\u001b[0;34m\u001b[0m\u001b[0;34m\u001b[0m\u001b[0;34m\u001b[0m\u001b[0m\n",
            "\u001b[0;32m/usr/local/lib/python3.7/dist-packages/keras/utils/traceback_utils.py\u001b[0m in \u001b[0;36merror_handler\u001b[0;34m(*args, **kwargs)\u001b[0m\n\u001b[1;32m     65\u001b[0m     \u001b[0;32mexcept\u001b[0m \u001b[0mException\u001b[0m \u001b[0;32mas\u001b[0m \u001b[0me\u001b[0m\u001b[0;34m:\u001b[0m  \u001b[0;31m# pylint: disable=broad-except\u001b[0m\u001b[0;34m\u001b[0m\u001b[0;34m\u001b[0m\u001b[0m\n\u001b[1;32m     66\u001b[0m       \u001b[0mfiltered_tb\u001b[0m \u001b[0;34m=\u001b[0m \u001b[0m_process_traceback_frames\u001b[0m\u001b[0;34m(\u001b[0m\u001b[0me\u001b[0m\u001b[0;34m.\u001b[0m\u001b[0m__traceback__\u001b[0m\u001b[0;34m)\u001b[0m\u001b[0;34m\u001b[0m\u001b[0;34m\u001b[0m\u001b[0m\n\u001b[0;32m---> 67\u001b[0;31m       \u001b[0;32mraise\u001b[0m \u001b[0me\u001b[0m\u001b[0;34m.\u001b[0m\u001b[0mwith_traceback\u001b[0m\u001b[0;34m(\u001b[0m\u001b[0mfiltered_tb\u001b[0m\u001b[0;34m)\u001b[0m \u001b[0;32mfrom\u001b[0m \u001b[0;32mNone\u001b[0m\u001b[0;34m\u001b[0m\u001b[0;34m\u001b[0m\u001b[0m\n\u001b[0m\u001b[1;32m     68\u001b[0m     \u001b[0;32mfinally\u001b[0m\u001b[0;34m:\u001b[0m\u001b[0;34m\u001b[0m\u001b[0;34m\u001b[0m\u001b[0m\n\u001b[1;32m     69\u001b[0m       \u001b[0;32mdel\u001b[0m \u001b[0mfiltered_tb\u001b[0m\u001b[0;34m\u001b[0m\u001b[0;34m\u001b[0m\u001b[0m\n",
            "\u001b[0;32m/usr/local/lib/python3.7/dist-packages/keras/engine/training.py\u001b[0m in \u001b[0;36m_validate_compile\u001b[0;34m(self, optimizer, metrics, **kwargs)\u001b[0m\n\u001b[1;32m   2784\u001b[0m     \u001b[0minvalid_kwargs\u001b[0m \u001b[0;34m=\u001b[0m \u001b[0mset\u001b[0m\u001b[0;34m(\u001b[0m\u001b[0mkwargs\u001b[0m\u001b[0;34m)\u001b[0m \u001b[0;34m-\u001b[0m \u001b[0;34m{\u001b[0m\u001b[0;34m'sample_weight_mode'\u001b[0m\u001b[0;34m}\u001b[0m\u001b[0;34m\u001b[0m\u001b[0;34m\u001b[0m\u001b[0m\n\u001b[1;32m   2785\u001b[0m     \u001b[0;32mif\u001b[0m \u001b[0minvalid_kwargs\u001b[0m\u001b[0;34m:\u001b[0m\u001b[0;34m\u001b[0m\u001b[0;34m\u001b[0m\u001b[0m\n\u001b[0;32m-> 2786\u001b[0;31m       raise TypeError('Invalid keyword argument(s) in `compile()`: '\n\u001b[0m\u001b[1;32m   2787\u001b[0m                       \u001b[0;34mf'{(invalid_kwargs,)}. Valid keyword arguments include '\u001b[0m\u001b[0;34m\u001b[0m\u001b[0;34m\u001b[0m\u001b[0m\n\u001b[1;32m   2788\u001b[0m                       \u001b[0;34m'\"cloning\", \"experimental_run_tf_function\", \"distribute\",'\u001b[0m\u001b[0;34m\u001b[0m\u001b[0;34m\u001b[0m\u001b[0m\n",
            "\u001b[0;31mTypeError\u001b[0m: Invalid keyword argument(s) in `compile()`: ({'optimizaer'},). Valid keyword arguments include \"cloning\", \"experimental_run_tf_function\", \"distribute\", \"target_tensors\", or \"sample_weight_mode\"."
          ]
        }
      ]
    },
    {
      "cell_type": "code",
      "metadata": {
        "colab": {
          "base_uri": "https://localhost:8080/",
          "height": 706
        },
        "id": "qThaFaPb1EJF",
        "outputId": "d7184ea7-fa5b-4650-c9a3-606afd9a0982"
      },
      "source": [
        "model.fit(x_train, y_train, epochs=100)  # 객체밑에 있는것 .fit은 메쏘드"
      ],
      "execution_count": null,
      "outputs": [
        {
          "output_type": "stream",
          "name": "stdout",
          "text": [
            "Epoch 1/100\n"
          ]
        },
        {
          "output_type": "error",
          "ename": "ValueError",
          "evalue": "ignored",
          "traceback": [
            "\u001b[0;31m---------------------------------------------------------------------------\u001b[0m",
            "\u001b[0;31mValueError\u001b[0m                                Traceback (most recent call last)",
            "\u001b[0;32m<ipython-input-43-2e611e4bace9>\u001b[0m in \u001b[0;36m<module>\u001b[0;34m()\u001b[0m\n\u001b[0;32m----> 1\u001b[0;31m \u001b[0mmodel\u001b[0m\u001b[0;34m.\u001b[0m\u001b[0mfit\u001b[0m\u001b[0;34m(\u001b[0m\u001b[0mx_train\u001b[0m\u001b[0;34m,\u001b[0m \u001b[0my_train\u001b[0m\u001b[0;34m,\u001b[0m \u001b[0mepochs\u001b[0m\u001b[0;34m=\u001b[0m\u001b[0;36m100\u001b[0m\u001b[0;34m)\u001b[0m  \u001b[0;31m# 객체밑에 있는것 .fit은 메쏘드\u001b[0m\u001b[0;34m\u001b[0m\u001b[0;34m\u001b[0m\u001b[0m\n\u001b[0m",
            "\u001b[0;32m/usr/local/lib/python3.7/dist-packages/keras/utils/traceback_utils.py\u001b[0m in \u001b[0;36merror_handler\u001b[0;34m(*args, **kwargs)\u001b[0m\n\u001b[1;32m     65\u001b[0m     \u001b[0;32mexcept\u001b[0m \u001b[0mException\u001b[0m \u001b[0;32mas\u001b[0m \u001b[0me\u001b[0m\u001b[0;34m:\u001b[0m  \u001b[0;31m# pylint: disable=broad-except\u001b[0m\u001b[0;34m\u001b[0m\u001b[0;34m\u001b[0m\u001b[0m\n\u001b[1;32m     66\u001b[0m       \u001b[0mfiltered_tb\u001b[0m \u001b[0;34m=\u001b[0m \u001b[0m_process_traceback_frames\u001b[0m\u001b[0;34m(\u001b[0m\u001b[0me\u001b[0m\u001b[0;34m.\u001b[0m\u001b[0m__traceback__\u001b[0m\u001b[0;34m)\u001b[0m\u001b[0;34m\u001b[0m\u001b[0;34m\u001b[0m\u001b[0m\n\u001b[0;32m---> 67\u001b[0;31m       \u001b[0;32mraise\u001b[0m \u001b[0me\u001b[0m\u001b[0;34m.\u001b[0m\u001b[0mwith_traceback\u001b[0m\u001b[0;34m(\u001b[0m\u001b[0mfiltered_tb\u001b[0m\u001b[0;34m)\u001b[0m \u001b[0;32mfrom\u001b[0m \u001b[0;32mNone\u001b[0m\u001b[0;34m\u001b[0m\u001b[0;34m\u001b[0m\u001b[0m\n\u001b[0m\u001b[1;32m     68\u001b[0m     \u001b[0;32mfinally\u001b[0m\u001b[0;34m:\u001b[0m\u001b[0;34m\u001b[0m\u001b[0;34m\u001b[0m\u001b[0m\n\u001b[1;32m     69\u001b[0m       \u001b[0;32mdel\u001b[0m \u001b[0mfiltered_tb\u001b[0m\u001b[0;34m\u001b[0m\u001b[0;34m\u001b[0m\u001b[0m\n",
            "\u001b[0;32m/usr/local/lib/python3.7/dist-packages/tensorflow/python/framework/func_graph.py\u001b[0m in \u001b[0;36mautograph_handler\u001b[0;34m(*args, **kwargs)\u001b[0m\n\u001b[1;32m   1127\u001b[0m           \u001b[0;32mexcept\u001b[0m \u001b[0mException\u001b[0m \u001b[0;32mas\u001b[0m \u001b[0me\u001b[0m\u001b[0;34m:\u001b[0m  \u001b[0;31m# pylint:disable=broad-except\u001b[0m\u001b[0;34m\u001b[0m\u001b[0;34m\u001b[0m\u001b[0m\n\u001b[1;32m   1128\u001b[0m             \u001b[0;32mif\u001b[0m \u001b[0mhasattr\u001b[0m\u001b[0;34m(\u001b[0m\u001b[0me\u001b[0m\u001b[0;34m,\u001b[0m \u001b[0;34m\"ag_error_metadata\"\u001b[0m\u001b[0;34m)\u001b[0m\u001b[0;34m:\u001b[0m\u001b[0;34m\u001b[0m\u001b[0;34m\u001b[0m\u001b[0m\n\u001b[0;32m-> 1129\u001b[0;31m               \u001b[0;32mraise\u001b[0m \u001b[0me\u001b[0m\u001b[0;34m.\u001b[0m\u001b[0mag_error_metadata\u001b[0m\u001b[0;34m.\u001b[0m\u001b[0mto_exception\u001b[0m\u001b[0;34m(\u001b[0m\u001b[0me\u001b[0m\u001b[0;34m)\u001b[0m\u001b[0;34m\u001b[0m\u001b[0;34m\u001b[0m\u001b[0m\n\u001b[0m\u001b[1;32m   1130\u001b[0m             \u001b[0;32melse\u001b[0m\u001b[0;34m:\u001b[0m\u001b[0;34m\u001b[0m\u001b[0;34m\u001b[0m\u001b[0m\n\u001b[1;32m   1131\u001b[0m               \u001b[0;32mraise\u001b[0m\u001b[0;34m\u001b[0m\u001b[0;34m\u001b[0m\u001b[0m\n",
            "\u001b[0;31mValueError\u001b[0m: in user code:\n\n    File \"/usr/local/lib/python3.7/dist-packages/keras/engine/training.py\", line 878, in train_function  *\n        return step_function(self, iterator)\n    File \"/usr/local/lib/python3.7/dist-packages/keras/engine/training.py\", line 867, in step_function  **\n        outputs = model.distribute_strategy.run(run_step, args=(data,))\n    File \"/usr/local/lib/python3.7/dist-packages/keras/engine/training.py\", line 860, in run_step  **\n        outputs = model.train_step(data)\n    File \"/usr/local/lib/python3.7/dist-packages/keras/engine/training.py\", line 808, in train_step\n        y_pred = self(x, training=True)\n    File \"/usr/local/lib/python3.7/dist-packages/keras/utils/traceback_utils.py\", line 67, in error_handler\n        raise e.with_traceback(filtered_tb) from None\n    File \"/usr/local/lib/python3.7/dist-packages/keras/engine/input_spec.py\", line 263, in assert_input_compatibility\n        raise ValueError(f'Input {input_index} of layer \"{layer_name}\" is '\n\n    ValueError: Input 0 of layer \"model_7\" is incompatible with the layer: expected shape=(None, 13), found shape=(None, 2)\n"
          ]
        }
      ]
    },
    {
      "cell_type": "code",
      "metadata": {
        "colab": {
          "base_uri": "https://localhost:8080/",
          "height": 354
        },
        "id": "FiEz1b3P1n0g",
        "outputId": "ae9fdd9a-e004-4504-a840-096ac9fd1bf5"
      },
      "source": [
        "result = model.fit(x_train, y_train, batch_size=128, epochs=500, validation_split=0.2)"
      ],
      "execution_count": null,
      "outputs": [
        {
          "output_type": "error",
          "ename": "RuntimeError",
          "evalue": "ignored",
          "traceback": [
            "\u001b[0;31m---------------------------------------------------------------------------\u001b[0m",
            "\u001b[0;31mRuntimeError\u001b[0m                              Traceback (most recent call last)",
            "\u001b[0;32m<ipython-input-47-0dbaab9a8650>\u001b[0m in \u001b[0;36m<module>\u001b[0;34m()\u001b[0m\n\u001b[0;32m----> 1\u001b[0;31m \u001b[0mresult\u001b[0m \u001b[0;34m=\u001b[0m \u001b[0mmodel\u001b[0m\u001b[0;34m.\u001b[0m\u001b[0mfit\u001b[0m\u001b[0;34m(\u001b[0m\u001b[0mx_train\u001b[0m\u001b[0;34m,\u001b[0m \u001b[0my_train\u001b[0m\u001b[0;34m,\u001b[0m \u001b[0mbatch_size\u001b[0m\u001b[0;34m=\u001b[0m\u001b[0;36m128\u001b[0m\u001b[0;34m,\u001b[0m \u001b[0mepochs\u001b[0m\u001b[0;34m=\u001b[0m\u001b[0;36m500\u001b[0m\u001b[0;34m,\u001b[0m \u001b[0mvalidation_split\u001b[0m\u001b[0;34m=\u001b[0m\u001b[0;36m0.2\u001b[0m\u001b[0;34m)\u001b[0m\u001b[0;34m\u001b[0m\u001b[0;34m\u001b[0m\u001b[0m\n\u001b[0m",
            "\u001b[0;32m/usr/local/lib/python3.7/dist-packages/keras/utils/traceback_utils.py\u001b[0m in \u001b[0;36merror_handler\u001b[0;34m(*args, **kwargs)\u001b[0m\n\u001b[1;32m     65\u001b[0m     \u001b[0;32mexcept\u001b[0m \u001b[0mException\u001b[0m \u001b[0;32mas\u001b[0m \u001b[0me\u001b[0m\u001b[0;34m:\u001b[0m  \u001b[0;31m# pylint: disable=broad-except\u001b[0m\u001b[0;34m\u001b[0m\u001b[0;34m\u001b[0m\u001b[0m\n\u001b[1;32m     66\u001b[0m       \u001b[0mfiltered_tb\u001b[0m \u001b[0;34m=\u001b[0m \u001b[0m_process_traceback_frames\u001b[0m\u001b[0;34m(\u001b[0m\u001b[0me\u001b[0m\u001b[0;34m.\u001b[0m\u001b[0m__traceback__\u001b[0m\u001b[0;34m)\u001b[0m\u001b[0;34m\u001b[0m\u001b[0;34m\u001b[0m\u001b[0m\n\u001b[0;32m---> 67\u001b[0;31m       \u001b[0;32mraise\u001b[0m \u001b[0me\u001b[0m\u001b[0;34m.\u001b[0m\u001b[0mwith_traceback\u001b[0m\u001b[0;34m(\u001b[0m\u001b[0mfiltered_tb\u001b[0m\u001b[0;34m)\u001b[0m \u001b[0;32mfrom\u001b[0m \u001b[0;32mNone\u001b[0m\u001b[0;34m\u001b[0m\u001b[0;34m\u001b[0m\u001b[0m\n\u001b[0m\u001b[1;32m     68\u001b[0m     \u001b[0;32mfinally\u001b[0m\u001b[0;34m:\u001b[0m\u001b[0;34m\u001b[0m\u001b[0;34m\u001b[0m\u001b[0m\n\u001b[1;32m     69\u001b[0m       \u001b[0;32mdel\u001b[0m \u001b[0mfiltered_tb\u001b[0m\u001b[0;34m\u001b[0m\u001b[0;34m\u001b[0m\u001b[0m\n",
            "\u001b[0;32m/usr/local/lib/python3.7/dist-packages/keras/engine/training.py\u001b[0m in \u001b[0;36m_assert_compile_was_called\u001b[0;34m(self)\u001b[0m\n\u001b[1;32m   2860\u001b[0m     \u001b[0;31m# (i.e. whether the model is built and its inputs/outputs are set).\u001b[0m\u001b[0;34m\u001b[0m\u001b[0;34m\u001b[0m\u001b[0;34m\u001b[0m\u001b[0m\n\u001b[1;32m   2861\u001b[0m     \u001b[0;32mif\u001b[0m \u001b[0;32mnot\u001b[0m \u001b[0mself\u001b[0m\u001b[0;34m.\u001b[0m\u001b[0m_is_compiled\u001b[0m\u001b[0;34m:\u001b[0m\u001b[0;34m\u001b[0m\u001b[0;34m\u001b[0m\u001b[0m\n\u001b[0;32m-> 2862\u001b[0;31m       raise RuntimeError('You must compile your model before '\n\u001b[0m\u001b[1;32m   2863\u001b[0m                          \u001b[0;34m'training/testing. '\u001b[0m\u001b[0;34m\u001b[0m\u001b[0;34m\u001b[0m\u001b[0m\n\u001b[1;32m   2864\u001b[0m                          'Use `model.compile(optimizer, loss)`.')\n",
            "\u001b[0;31mRuntimeError\u001b[0m: You must compile your model before training/testing. Use `model.compile(optimizer, loss)`."
          ]
        }
      ]
    },
    {
      "cell_type": "code",
      "metadata": {
        "colab": {
          "base_uri": "https://localhost:8080/"
        },
        "id": "UcrSiy1g1rk-",
        "outputId": "662c39e7-ce76-466d-b597-f03e8c42cd03"
      },
      "source": [
        "# Train/ Validation / Test\n",
        "# Train : 학습용\n",
        "# Validation : 모의고사용\n",
        "# Test : 최종면접\n",
        "\n",
        "x_train, x_test = x_boston[:400], x_boston[400:]\n",
        "y_train, y_test = y_boston[:400], y_boston[400:]\n",
        "print(x_train.shape, x_test.shape)\n",
        "print(y_train.shape, y_test.shape)"
      ],
      "execution_count": null,
      "outputs": [
        {
          "output_type": "stream",
          "name": "stdout",
          "text": [
            "(400, 13) (106, 13)\n",
            "(400, 1) (106, 1)\n"
          ]
        }
      ]
    },
    {
      "cell_type": "code",
      "metadata": {
        "colab": {
          "base_uri": "https://localhost:8080/",
          "height": 387
        },
        "id": "V9DiU5WM5lWX",
        "outputId": "54ca1e75-9c2b-4b51-ea7e-68070212c584"
      },
      "source": [
        "result = model.fit(x_train, y_train, epochs=500, validation_split=0.2)\n",
        "# 학습은 되는데 validation수가 점점 늘고있다 --> 과적합(overfitting)"
      ],
      "execution_count": null,
      "outputs": [
        {
          "output_type": "stream",
          "name": "stdout",
          "text": [
            "Epoch 1/500\n"
          ]
        },
        {
          "output_type": "error",
          "ename": "ValueError",
          "evalue": "ignored",
          "traceback": [
            "\u001b[0;31m---------------------------------------------------------------------------\u001b[0m",
            "\u001b[0;31mValueError\u001b[0m                                Traceback (most recent call last)",
            "\u001b[0;32m<ipython-input-45-f851630f2ee5>\u001b[0m in \u001b[0;36m<module>\u001b[0;34m()\u001b[0m\n\u001b[0;32m----> 1\u001b[0;31m \u001b[0mresult\u001b[0m \u001b[0;34m=\u001b[0m \u001b[0mmodel\u001b[0m\u001b[0;34m.\u001b[0m\u001b[0mfit\u001b[0m\u001b[0;34m(\u001b[0m\u001b[0mx_train\u001b[0m\u001b[0;34m,\u001b[0m \u001b[0my_train\u001b[0m\u001b[0;34m,\u001b[0m \u001b[0mepochs\u001b[0m\u001b[0;34m=\u001b[0m\u001b[0;36m500\u001b[0m\u001b[0;34m,\u001b[0m \u001b[0mvalidation_split\u001b[0m\u001b[0;34m=\u001b[0m\u001b[0;36m0.2\u001b[0m\u001b[0;34m)\u001b[0m\u001b[0;34m\u001b[0m\u001b[0;34m\u001b[0m\u001b[0m\n\u001b[0m\u001b[1;32m      2\u001b[0m \u001b[0;31m# 학습은 되는데 validation수가 점점 늘고있다 --> 과적합(overfitting)\u001b[0m\u001b[0;34m\u001b[0m\u001b[0;34m\u001b[0m\u001b[0;34m\u001b[0m\u001b[0m\n",
            "\u001b[0;32m/usr/local/lib/python3.7/dist-packages/keras/utils/traceback_utils.py\u001b[0m in \u001b[0;36merror_handler\u001b[0;34m(*args, **kwargs)\u001b[0m\n\u001b[1;32m     65\u001b[0m     \u001b[0;32mexcept\u001b[0m \u001b[0mException\u001b[0m \u001b[0;32mas\u001b[0m \u001b[0me\u001b[0m\u001b[0;34m:\u001b[0m  \u001b[0;31m# pylint: disable=broad-except\u001b[0m\u001b[0;34m\u001b[0m\u001b[0;34m\u001b[0m\u001b[0m\n\u001b[1;32m     66\u001b[0m       \u001b[0mfiltered_tb\u001b[0m \u001b[0;34m=\u001b[0m \u001b[0m_process_traceback_frames\u001b[0m\u001b[0;34m(\u001b[0m\u001b[0me\u001b[0m\u001b[0;34m.\u001b[0m\u001b[0m__traceback__\u001b[0m\u001b[0;34m)\u001b[0m\u001b[0;34m\u001b[0m\u001b[0;34m\u001b[0m\u001b[0m\n\u001b[0;32m---> 67\u001b[0;31m       \u001b[0;32mraise\u001b[0m \u001b[0me\u001b[0m\u001b[0;34m.\u001b[0m\u001b[0mwith_traceback\u001b[0m\u001b[0;34m(\u001b[0m\u001b[0mfiltered_tb\u001b[0m\u001b[0;34m)\u001b[0m \u001b[0;32mfrom\u001b[0m \u001b[0;32mNone\u001b[0m\u001b[0;34m\u001b[0m\u001b[0;34m\u001b[0m\u001b[0m\n\u001b[0m\u001b[1;32m     68\u001b[0m     \u001b[0;32mfinally\u001b[0m\u001b[0;34m:\u001b[0m\u001b[0;34m\u001b[0m\u001b[0;34m\u001b[0m\u001b[0m\n\u001b[1;32m     69\u001b[0m       \u001b[0;32mdel\u001b[0m \u001b[0mfiltered_tb\u001b[0m\u001b[0;34m\u001b[0m\u001b[0;34m\u001b[0m\u001b[0m\n",
            "\u001b[0;32m/usr/local/lib/python3.7/dist-packages/tensorflow/python/eager/def_function.py\u001b[0m in \u001b[0;36m_call\u001b[0;34m(self, *args, **kwds)\u001b[0m\n\u001b[1;32m    949\u001b[0m       \u001b[0mresults\u001b[0m \u001b[0;34m=\u001b[0m \u001b[0mself\u001b[0m\u001b[0;34m.\u001b[0m\u001b[0m_stateful_fn\u001b[0m\u001b[0;34m(\u001b[0m\u001b[0;34m*\u001b[0m\u001b[0margs\u001b[0m\u001b[0;34m,\u001b[0m \u001b[0;34m**\u001b[0m\u001b[0mkwds\u001b[0m\u001b[0;34m)\u001b[0m\u001b[0;34m\u001b[0m\u001b[0;34m\u001b[0m\u001b[0m\n\u001b[1;32m    950\u001b[0m       \u001b[0;32mif\u001b[0m \u001b[0mself\u001b[0m\u001b[0;34m.\u001b[0m\u001b[0m_created_variables\u001b[0m \u001b[0;32mand\u001b[0m \u001b[0;32mnot\u001b[0m \u001b[0mALLOW_DYNAMIC_VARIABLE_CREATION\u001b[0m\u001b[0;34m:\u001b[0m\u001b[0;34m\u001b[0m\u001b[0;34m\u001b[0m\u001b[0m\n\u001b[0;32m--> 951\u001b[0;31m         raise ValueError(\"Creating variables on a non-first call to a function\"\n\u001b[0m\u001b[1;32m    952\u001b[0m                          \" decorated with tf.function.\")\n\u001b[1;32m    953\u001b[0m       \u001b[0;32mreturn\u001b[0m \u001b[0mresults\u001b[0m\u001b[0;34m\u001b[0m\u001b[0;34m\u001b[0m\u001b[0m\n",
            "\u001b[0;31mValueError\u001b[0m: Creating variables on a non-first call to a function decorated with tf.function."
          ]
        }
      ]
    },
    {
      "cell_type": "code",
      "metadata": {
        "id": "eWNWZAkq6P72"
      },
      "source": [
        "model.evaluate(x_test, y_test)"
      ],
      "execution_count": null,
      "outputs": []
    },
    {
      "cell_type": "code",
      "metadata": {
        "id": "5ZexP38q6kfh"
      },
      "source": [
        "import matplotlib.pyplot as plt\n",
        "\n",
        "plt.plot(result.history['loss'][10:]) # 초반에 10개 정도 때고 보기\n",
        "plt.plot(result.history['val_loss'][10:])\n",
        "plt.legend(['loss', 'val_loss'])\n",
        "plt.show()"
      ],
      "execution_count": null,
      "outputs": []
    },
    {
      "cell_type": "code",
      "metadata": {
        "id": "mwYJDcL-_rik",
        "colab": {
          "base_uri": "https://localhost:8080/"
        },
        "outputId": "cef7f4b9-4e70-4165-d9ca-d782a3a15bdd"
      },
      "source": [
        "x_train, x_test = x_boston[:400], x_boston[400:]\n",
        "y_train, y_test = y_boston[:400], y_boston[400:]\n",
        "print(x_train.shape, x_test.shape)\n",
        "print(y_train.shape, y_test.shape)"
      ],
      "execution_count": null,
      "outputs": [
        {
          "output_type": "stream",
          "name": "stdout",
          "text": [
            "(400, 13) (106, 13)\n",
            "(400, 1) (106, 1)\n"
          ]
        }
      ]
    },
    {
      "cell_type": "code",
      "metadata": {
        "id": "5iowLjVm2Smb",
        "outputId": "75e18d07-6cb1-48c9-e5ee-98bb37c19256",
        "colab": {
          "base_uri": "https://localhost:8080/",
          "height": 354
        }
      },
      "source": [
        "result = model.fit(x_train, y_train, batch_size=128, epochs=500, validation_split=0.2)"
      ],
      "execution_count": null,
      "outputs": [
        {
          "output_type": "error",
          "ename": "RuntimeError",
          "evalue": "ignored",
          "traceback": [
            "\u001b[0;31m---------------------------------------------------------------------------\u001b[0m",
            "\u001b[0;31mRuntimeError\u001b[0m                              Traceback (most recent call last)",
            "\u001b[0;32m<ipython-input-50-0dbaab9a8650>\u001b[0m in \u001b[0;36m<module>\u001b[0;34m()\u001b[0m\n\u001b[0;32m----> 1\u001b[0;31m \u001b[0mresult\u001b[0m \u001b[0;34m=\u001b[0m \u001b[0mmodel\u001b[0m\u001b[0;34m.\u001b[0m\u001b[0mfit\u001b[0m\u001b[0;34m(\u001b[0m\u001b[0mx_train\u001b[0m\u001b[0;34m,\u001b[0m \u001b[0my_train\u001b[0m\u001b[0;34m,\u001b[0m \u001b[0mbatch_size\u001b[0m\u001b[0;34m=\u001b[0m\u001b[0;36m128\u001b[0m\u001b[0;34m,\u001b[0m \u001b[0mepochs\u001b[0m\u001b[0;34m=\u001b[0m\u001b[0;36m500\u001b[0m\u001b[0;34m,\u001b[0m \u001b[0mvalidation_split\u001b[0m\u001b[0;34m=\u001b[0m\u001b[0;36m0.2\u001b[0m\u001b[0;34m)\u001b[0m\u001b[0;34m\u001b[0m\u001b[0;34m\u001b[0m\u001b[0m\n\u001b[0m",
            "\u001b[0;32m/usr/local/lib/python3.7/dist-packages/keras/utils/traceback_utils.py\u001b[0m in \u001b[0;36merror_handler\u001b[0;34m(*args, **kwargs)\u001b[0m\n\u001b[1;32m     65\u001b[0m     \u001b[0;32mexcept\u001b[0m \u001b[0mException\u001b[0m \u001b[0;32mas\u001b[0m \u001b[0me\u001b[0m\u001b[0;34m:\u001b[0m  \u001b[0;31m# pylint: disable=broad-except\u001b[0m\u001b[0;34m\u001b[0m\u001b[0;34m\u001b[0m\u001b[0m\n\u001b[1;32m     66\u001b[0m       \u001b[0mfiltered_tb\u001b[0m \u001b[0;34m=\u001b[0m \u001b[0m_process_traceback_frames\u001b[0m\u001b[0;34m(\u001b[0m\u001b[0me\u001b[0m\u001b[0;34m.\u001b[0m\u001b[0m__traceback__\u001b[0m\u001b[0;34m)\u001b[0m\u001b[0;34m\u001b[0m\u001b[0;34m\u001b[0m\u001b[0m\n\u001b[0;32m---> 67\u001b[0;31m       \u001b[0;32mraise\u001b[0m \u001b[0me\u001b[0m\u001b[0;34m.\u001b[0m\u001b[0mwith_traceback\u001b[0m\u001b[0;34m(\u001b[0m\u001b[0mfiltered_tb\u001b[0m\u001b[0;34m)\u001b[0m \u001b[0;32mfrom\u001b[0m \u001b[0;32mNone\u001b[0m\u001b[0;34m\u001b[0m\u001b[0;34m\u001b[0m\u001b[0m\n\u001b[0m\u001b[1;32m     68\u001b[0m     \u001b[0;32mfinally\u001b[0m\u001b[0;34m:\u001b[0m\u001b[0;34m\u001b[0m\u001b[0;34m\u001b[0m\u001b[0m\n\u001b[1;32m     69\u001b[0m       \u001b[0;32mdel\u001b[0m \u001b[0mfiltered_tb\u001b[0m\u001b[0;34m\u001b[0m\u001b[0;34m\u001b[0m\u001b[0m\n",
            "\u001b[0;32m/usr/local/lib/python3.7/dist-packages/keras/engine/training.py\u001b[0m in \u001b[0;36m_assert_compile_was_called\u001b[0;34m(self)\u001b[0m\n\u001b[1;32m   2860\u001b[0m     \u001b[0;31m# (i.e. whether the model is built and its inputs/outputs are set).\u001b[0m\u001b[0;34m\u001b[0m\u001b[0;34m\u001b[0m\u001b[0;34m\u001b[0m\u001b[0m\n\u001b[1;32m   2861\u001b[0m     \u001b[0;32mif\u001b[0m \u001b[0;32mnot\u001b[0m \u001b[0mself\u001b[0m\u001b[0;34m.\u001b[0m\u001b[0m_is_compiled\u001b[0m\u001b[0;34m:\u001b[0m\u001b[0;34m\u001b[0m\u001b[0;34m\u001b[0m\u001b[0m\n\u001b[0;32m-> 2862\u001b[0;31m       raise RuntimeError('You must compile your model before '\n\u001b[0m\u001b[1;32m   2863\u001b[0m                          \u001b[0;34m'training/testing. '\u001b[0m\u001b[0;34m\u001b[0m\u001b[0;34m\u001b[0m\u001b[0m\n\u001b[1;32m   2864\u001b[0m                          'Use `model.compile(optimizer, loss)`.')\n",
            "\u001b[0;31mRuntimeError\u001b[0m: You must compile your model before training/testing. Use `model.compile(optimizer, loss)`."
          ]
        }
      ]
    },
    {
      "cell_type": "code",
      "metadata": {
        "id": "i4PxDXTT2UWO"
      },
      "source": [
        ""
      ],
      "execution_count": null,
      "outputs": []
    }
  ]
}